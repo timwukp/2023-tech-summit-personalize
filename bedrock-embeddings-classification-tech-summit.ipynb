{
 "cells": [
  {
   "cell_type": "markdown",
   "id": "a15f81e3-0976-4ff7-8ae1-ddb5fbdf1d94",
   "metadata": {},
   "source": [
    "# How to use Bedrock Titan FM embedding vectors to build a LLM content moderation engine with RandomForestClassifier"
   ]
  },
  {
   "cell_type": "markdown",
   "id": "22118967-7d3e-49d1-90ef-1f0ac2942e7c",
   "metadata": {},
   "source": [
    "In this demo notebook, we demonstrate how to use Bedrock Titan FM embedding vectors to build a LLM content moderation engine with RandomForestClassifier\n",
    "\n",
    "We will use the Bedrock Python SDK for Embeddings Generation.\n"
   ]
  },
  {
   "cell_type": "markdown",
   "id": "a79a2e3f-28ef-4566-87ce-67153443faff",
   "metadata": {},
   "source": [
    "## Content moderation Pipeline\n",
    "\n",
    "Email Template content ->Bedrock Titan FM -> Embedding vectors -> RandomForestClassifier -> result"
   ]
  },
  {
   "cell_type": "markdown",
   "id": "928b0f06-7035-44c2-8f3f-2c0f48ffa093",
   "metadata": {},
   "source": [
    "1. [Set Up](#1.-Set-Up)\n",
    "2. [Embeddings Generation](#2.-Embeddings-Generation)\n",
    "3. [Items Similarity](#3.-Items-Similarity)"
   ]
  },
  {
   "cell_type": "markdown",
   "id": "e54a273a-ebf6-4337-8ec9-6520ad3597a3",
   "metadata": {
    "tags": []
   },
   "source": [
    "Note: This notebook was tested in Amazon SageMaker Studio with Python 3 (Data Science 2.0) kernel."
   ]
  },
  {
   "cell_type": "markdown",
   "id": "bc708a77-1dc2-4032-8a8c-5a85b6111dee",
   "metadata": {},
   "source": [
    "### 1. Set Up"
   ]
  },
  {
   "cell_type": "markdown",
   "id": "c11d790c-6f24-4642-b86c-a0dfe5b7ed59",
   "metadata": {},
   "source": [
    "---\n",
    "Before executing the notebook for the first time, execute this cell to add bedrock extensions to the Python boto3 SDK\n",
    "\n",
    "---"
   ]
  },
  {
   "cell_type": "code",
   "execution_count": null,
   "id": "14fdf603-a8a9-4888-92b8-b1eca9cc2aa0",
   "metadata": {
    "tags": []
   },
   "outputs": [],
   "source": [
    "!python3 -m pip install dependencies/boto3-1.26.162-py3-none-any.whl\n",
    "!python3 -m pip install dependencies/botocore-1.29.162-py3-none-any.whl"
   ]
  },
  {
   "cell_type": "markdown",
   "id": "c5530b40-b6df-4f51-a862-025ded60d513",
   "metadata": {},
   "source": [
    "Let's initialize the boto3 client to use Bedrock"
   ]
  },
  {
   "cell_type": "code",
   "execution_count": 2,
   "id": "14d82998-f5d1-4624-a54f-f9d04422b8d4",
   "metadata": {
    "tags": []
   },
   "outputs": [],
   "source": [
    "import boto3\n",
    "import json\n",
    "bedrock = boto3.client(\n",
    " service_name='bedrock',\n",
    " region_name='us-east-1',\n",
    " endpoint_url='https://bedrock.us-east-1.amazonaws.com'\n",
    ")"
   ]
  },
  {
   "cell_type": "markdown",
   "id": "dd8e292d-32b2-49ce-b1fb-066b70cc5cde",
   "metadata": {},
   "source": [
    "Lets test the endpoint to see what models are available"
   ]
  },
  {
   "cell_type": "code",
   "execution_count": 3,
   "id": "c10722be-2f83-4f8c-89a4-7d9b181029f5",
   "metadata": {
    "tags": []
   },
   "outputs": [
    {
     "data": {
      "text/plain": [
       "{'ResponseMetadata': {'RequestId': '9b303ddb-8725-48c2-9f6c-2fe104bc1e17',\n",
       "  'HTTPStatusCode': 200,\n",
       "  'HTTPHeaders': {'date': 'Mon, 04 Sep 2023 14:43:14 GMT',\n",
       "   'content-type': 'application/json',\n",
       "   'content-length': '1166',\n",
       "   'connection': 'keep-alive',\n",
       "   'x-amzn-requestid': '9b303ddb-8725-48c2-9f6c-2fe104bc1e17'},\n",
       "  'RetryAttempts': 0},\n",
       " 'modelSummaries': [{'modelArn': 'arn:aws:bedrock:us-east-1::foundation-model/amazon.titan-tg1-large',\n",
       "   'modelId': 'amazon.titan-tg1-large'},\n",
       "  {'modelArn': 'arn:aws:bedrock:us-east-1::foundation-model/amazon.titan-e1t-medium',\n",
       "   'modelId': 'amazon.titan-e1t-medium'},\n",
       "  {'modelArn': 'arn:aws:bedrock:us-east-1::foundation-model/stability.stable-diffusion-xl',\n",
       "   'modelId': 'stability.stable-diffusion-xl'},\n",
       "  {'modelArn': 'arn:aws:bedrock:us-east-1::foundation-model/ai21.j2-grande-instruct',\n",
       "   'modelId': 'ai21.j2-grande-instruct'},\n",
       "  {'modelArn': 'arn:aws:bedrock:us-east-1::foundation-model/ai21.j2-jumbo-instruct',\n",
       "   'modelId': 'ai21.j2-jumbo-instruct'},\n",
       "  {'modelArn': 'arn:aws:bedrock:us-east-1::foundation-model/ai21.j2-mid',\n",
       "   'modelId': 'ai21.j2-mid'},\n",
       "  {'modelArn': 'arn:aws:bedrock:us-east-1::foundation-model/ai21.j2-ultra',\n",
       "   'modelId': 'ai21.j2-ultra'},\n",
       "  {'modelArn': 'arn:aws:bedrock:us-east-1::foundation-model/anthropic.claude-instant-v1',\n",
       "   'modelId': 'anthropic.claude-instant-v1'},\n",
       "  {'modelArn': 'arn:aws:bedrock:us-east-1::foundation-model/anthropic.claude-v1',\n",
       "   'modelId': 'anthropic.claude-v1'},\n",
       "  {'modelArn': 'arn:aws:bedrock:us-east-1::foundation-model/anthropic.claude-v2',\n",
       "   'modelId': 'anthropic.claude-v2'}]}"
      ]
     },
     "execution_count": 3,
     "metadata": {},
     "output_type": "execute_result"
    }
   ],
   "source": [
    "bedrock.list_foundation_models()"
   ]
  },
  {
   "cell_type": "markdown",
   "id": "0789f20e-49f3-4511-bd84-47215a4814a9",
   "metadata": {},
   "source": [
    "## Load training dataset CSV file into dataframe"
   ]
  },
  {
   "cell_type": "code",
   "execution_count": 4,
   "id": "c3efc84a-6731-406a-a6aa-5161913feaac",
   "metadata": {
    "tags": []
   },
   "outputs": [
    {
     "name": "stdout",
     "output_type": "stream",
     "text": [
      "                                                text is_toxic\n",
      "0  Elon Musk is a piece of shit, greedy capitalis...    Toxic\n",
      "1  The senile credit card shrill from Delaware ne...    Toxic\n",
      "2  He does that a lot -- makes everyone look good...    Toxic\n",
      "3                                         F*ck Lizzo    Toxic\n",
      "4  Epstein and trump were best buds!!! Pedophiles...    Toxic\n"
     ]
    }
   ],
   "source": [
    "import pandas as pd\n",
    "\n",
    "# Specify the file path\n",
    "csv_file = \"compliance_dataset.csv\"\n",
    "\n",
    "# Load the CSV file into a DataFrame\n",
    "df = pd.read_csv(csv_file)\n",
    "\n",
    "# Display the first few rows of the DataFrame to verify the data loading\n",
    "print(df.head())"
   ]
  },
  {
   "cell_type": "code",
   "execution_count": 5,
   "id": "405574e5-ec6d-44b8-a737-80a4bb1a4749",
   "metadata": {
    "tags": []
   },
   "outputs": [
    {
     "name": "stdout",
     "output_type": "stream",
     "text": [
      "                                                text  label\n",
      "0  Elon Musk is a piece of shit, greedy capitalis...  Toxic\n",
      "1  The senile credit card shrill from Delaware ne...  Toxic\n",
      "2  He does that a lot -- makes everyone look good...  Toxic\n",
      "3                                         F*ck Lizzo  Toxic\n",
      "4  Epstein and trump were best buds!!! Pedophiles...  Toxic\n"
     ]
    }
   ],
   "source": [
    "# Rename the 'is_toxic' column to 'label'\n",
    "df.rename(columns={'is_toxic': 'label'}, inplace=True)\n",
    "\n",
    "# Display the first few rows of the DataFrame to verify the column name change\n",
    "print(df.head())"
   ]
  },
  {
   "cell_type": "code",
   "execution_count": 6,
   "id": "6ef4748f-84a7-42f2-96dd-cd50db3f997b",
   "metadata": {
    "tags": []
   },
   "outputs": [
    {
     "name": "stdout",
     "output_type": "stream",
     "text": [
      "                                                text           label\n",
      "0  Elon Musk is a piece of shit, greedy capitalis...  non-compliance\n",
      "1  The senile credit card shrill from Delaware ne...  non-compliance\n",
      "2  He does that a lot -- makes everyone look good...  non-compliance\n",
      "3                                         F*ck Lizzo  non-compliance\n",
      "4  Epstein and trump were best buds!!! Pedophiles...  non-compliance\n"
     ]
    }
   ],
   "source": [
    "\n",
    "# Specify the file path\n",
    "csv_file = \"compliance_dataset.csv\"\n",
    "\n",
    "# Load the CSV file into a DataFrame\n",
    "df = pd.read_csv(csv_file)\n",
    "\n",
    "# Rename the 'is_toxic' column to 'label'\n",
    "df.rename(columns={'is_toxic': 'label'}, inplace=True)\n",
    "\n",
    "# Replace values in the 'label' column\n",
    "df['label'] = df['label'].replace({'Toxic': 'non-compliance', 'Not Toxic': 'compliance'})\n",
    "\n",
    "# Display the first few rows of the DataFrame to verify the changes\n",
    "print(df.head())\n"
   ]
  },
  {
   "cell_type": "code",
   "execution_count": 7,
   "id": "9f24b960-2b09-4f8d-a165-fd492ec2d663",
   "metadata": {
    "tags": []
   },
   "outputs": [
    {
     "name": "stdout",
     "output_type": "stream",
     "text": [
      "                                                  text       label\n",
      "501                         They’re shallots, actually  compliance\n",
      "502            me thinking in my head: mmm pizzaaaa...  compliance\n",
      "503  I have never seen a dice hammer that is so fuc...  compliance\n",
      "504  Got a question for you guys out there: did rev...  compliance\n",
      "505  This sub’s notorious for it. It might be the m...  compliance\n"
     ]
    }
   ],
   "source": [
    "# Filter the DataFrame to show rows where 'label' is 'non-compliance'\n",
    "non_compliance_df = df[df['label'] == 'compliance']\n",
    "\n",
    "# Display the first few rows of the filtered DataFrame\n",
    "print(non_compliance_df.head())\n"
   ]
  },
  {
   "cell_type": "code",
   "execution_count": 8,
   "id": "f69f82aa-3920-4671-82da-a82f3d3ba204",
   "metadata": {
    "tags": []
   },
   "outputs": [],
   "source": [
    "# Duplicate the original DataFrame and assign it to 'vectors_df'\n",
    "vectors_df = pd.DataFrame(df)\n"
   ]
  },
  {
   "cell_type": "code",
   "execution_count": 9,
   "id": "28bc4fa3-4196-4f4f-b85b-6b492beb8161",
   "metadata": {
    "tags": []
   },
   "outputs": [
    {
     "name": "stdout",
     "output_type": "stream",
     "text": [
      "non-compliance    501\n",
      "compliance        499\n",
      "Name: label, dtype: int64\n"
     ]
    }
   ],
   "source": [
    "# Count the number of 'compliance' and 'non-compliance' labels\n",
    "label_counts = vectors_df['label'].value_counts()\n",
    "\n",
    "# Print the counts\n",
    "print(label_counts)\n"
   ]
  },
  {
   "cell_type": "code",
   "execution_count": 10,
   "id": "6829545b-d402-42da-a9b9-9a5fa766cb92",
   "metadata": {
    "tags": []
   },
   "outputs": [],
   "source": [
    "# Export the DataFrame 'vectors_df' to a JSON file named 'compliance_dataset.json'\n",
    "vectors_df.to_json('compliance_dataset.json', orient='records', lines=True)\n"
   ]
  },
  {
   "cell_type": "code",
   "execution_count": 11,
   "id": "7e9593c4-440e-4632-96b9-bdd31ed4aba8",
   "metadata": {
    "tags": []
   },
   "outputs": [],
   "source": [
    "import json\n",
    "\n",
    "# Open the JSON file for reading\n",
    "with open('compliance_dataset.json', 'r', encoding='utf-8') as file:\n",
    "    data = []\n",
    "    for line in file:\n",
    "        # Parse each line as a separate JSON object\n",
    "        try:\n",
    "            record = json.loads(line.strip())\n",
    "            data.append(record)\n",
    "        except json.JSONDecodeError as e:\n",
    "            print(f\"Skipping invalid JSON: {e}\")\n",
    "\n",
    "# 'data' now contains a list of dictionaries, each representing a JSON object\n"
   ]
  },
  {
   "cell_type": "code",
   "execution_count": 12,
   "id": "e92542ff-9758-40cc-915e-19605d7e09cb",
   "metadata": {
    "tags": []
   },
   "outputs": [
    {
     "name": "stdout",
     "output_type": "stream",
     "text": [
      "Data has been saved to parsed_compliance_data.json\n"
     ]
    }
   ],
   "source": [
    "import json\n",
    "\n",
    "# Open the JSON file for reading\n",
    "with open('compliance_dataset.json', 'r', encoding='utf-8') as file:\n",
    "    data = []\n",
    "    for line in file:\n",
    "        # Parse each line as a separate JSON object\n",
    "        try:\n",
    "            record = json.loads(line.strip())\n",
    "            data.append(record)\n",
    "        except json.JSONDecodeError as e:\n",
    "            print(f\"Skipping invalid JSON: {e}\")\n",
    "\n",
    "# 'data' now contains a list of dictionaries, each representing a JSON object\n",
    "\n",
    "# Specify the filename for the new JSON file\n",
    "output_filename = 'parsed_compliance_data.json'\n",
    "\n",
    "# Write the 'data' list to the new JSON file\n",
    "with open(output_filename, 'w', encoding='utf-8') as output_file:\n",
    "    json.dump(data, output_file, indent=4)\n",
    "\n",
    "print(f'Data has been saved to {output_filename}')\n"
   ]
  },
  {
   "cell_type": "code",
   "execution_count": 13,
   "id": "5c4bcdf2-c371-41a2-8c71-85306453dc63",
   "metadata": {
    "tags": []
   },
   "outputs": [],
   "source": [
    "import json\n",
    "\n",
    "# Specify the filename of the JSON file you want to load\n",
    "input_filename = 'parsed_compliance_data.json'\n",
    "\n",
    "# Load the JSON data from the file into a Python variable\n",
    "with open(input_filename, 'r', encoding='utf-8') as input_file:\n",
    "    loaded_data = json.load(input_file)\n",
    "\n",
    "# Now, 'loaded_data' contains the JSON data as a Python data structure (likely a list of dictionaries)\n",
    "\n",
    "# You can now work with 'loaded_data' in your Jupyter Notebook\n"
   ]
  },
  {
   "cell_type": "code",
   "execution_count": 14,
   "id": "503df551-dced-4654-8f38-2ec1034e0404",
   "metadata": {
    "tags": []
   },
   "outputs": [
    {
     "name": "stdout",
     "output_type": "stream",
     "text": [
      "{'text': 'Elon Musk is a piece of shit, greedy capitalist who exploits workers, and offers nothing of real benefit to the world.\\n All he’s done is make a name for himself on the backs of other people, using dirty money from his family’s emerald mine they acquired during apartheid.\\n I don’t care that he’s autistic. He thinks we should be cured with his company’s AI chip. \\n He is not a representation of our community. Don’t celebrate him on this page.', 'label': 'non-compliance'}\n",
      "{'text': 'The senile credit card shrill from Delaware needs to resign!!', 'label': 'non-compliance'}\n",
      "{'text': \"He does that a lot -- makes everyone look good but him...I guess it's also probably the Dems and the Media that force him to compulsively tweet abject bullshit like a lying bitch. They're tricky, them libs.\", 'label': 'non-compliance'}\n"
     ]
    }
   ],
   "source": [
    "# Assuming you've already loaded the JSON data into the 'loaded_data' variable\n",
    "\n",
    "# Display the top 3 records\n",
    "top_3_records = loaded_data[:3]\n",
    "for record in top_3_records:\n",
    "    print(record)\n",
    "\n"
   ]
  },
  {
   "cell_type": "markdown",
   "id": "ebec00d8-8af4-49c1-8566-0fd865f6810d",
   "metadata": {
    "tags": []
   },
   "source": [
    "### 2. Embeddings Generation"
   ]
  },
  {
   "cell_type": "markdown",
   "id": "e2f5f862-9a08-4c85-a789-e34ff85cb69c",
   "metadata": {},
   "source": [
    "Embeddings are a key concept in generative AI and machine learning in general. An embedding is a representation of an object (like a word, image, video, etc.) in a vector space. Typically, semantically similar objects will have embeddings that are close together in the vector space. These are very powerful for use-cases like semantic search, recommendations and Classifications."
   ]
  },
  {
   "cell_type": "markdown",
   "id": "4849d4b3-b20d-4d3a-a396-51c2bc51ce0f",
   "metadata": {
    "tags": []
   },
   "source": [
    "# We will be using the Titan Embeddings Model to generate our Embeddings.\n",
    "\n",
    "def get_embedding(body, modelId, accept, contentType):\n",
    "    response = bedrock.invoke_model(body=body, modelId=modelId, accept=accept, contentType=contentType)\n",
    "    response_body = json.loads(response.get('body').read())\n",
    "    embedding = response_body.get('embedding')\n",
    "    return embedding\n",
    "\n",
    "body = json.dumps({\"inputText\": \"explain black holes to 8th graders\"})\n",
    "modelId = 'amazon.titan-e1t-medium'\n",
    "accept = 'application/json'\n",
    "contentType = 'application/json'\n",
    "\n",
    "embedding = get_embedding(body, modelId, accept, contentType)\n",
    "print(embedding)"
   ]
  },
  {
   "cell_type": "code",
   "execution_count": 15,
   "id": "d219c2c9-27c7-4a80-875d-d4c218119efd",
   "metadata": {
    "tags": []
   },
   "outputs": [
    {
     "name": "stdout",
     "output_type": "stream",
     "text": [
      "Embedding vectors have been saved to vectors.json\n"
     ]
    }
   ],
   "source": [
    "import json\n",
    "\n",
    "import json\n",
    "\n",
    "def get_embedding(body, modelId, accept, contentType):\n",
    "    response = bedrock.invoke_model(body=body, modelId=modelId, accept=accept, contentType=contentType)\n",
    "    response_body = json.loads(response.get('body').read())\n",
    "    embedding = response_body.get('embedding')\n",
    "    return embedding\n",
    "\n",
    "# Load the parsed JSON data from 'parsed_compliance_data.json'\n",
    "with open('parsed_compliance_data.json', 'r', encoding='utf-8') as input_file:\n",
    "    data = json.load(input_file)\n",
    "\n",
    "# Initialize a list to store the results\n",
    "results = []\n",
    "\n",
    "# Loop through each record in the data\n",
    "for record in data:\n",
    "    text = record['text']\n",
    "    label = record['label']\n",
    "\n",
    "    # Calculate the embedding for the text\n",
    "    body = json.dumps({\"inputText\": text})\n",
    "    modelId = 'amazon.titan-e1t-medium'\n",
    "    accept = 'application/json'\n",
    "    contentType = 'application/json'\n",
    "    embedding = get_embedding(body, modelId, accept, contentType)\n",
    "\n",
    "    # Create a result dictionary with text, label, and embedding\n",
    "    result = {\n",
    "        #'text': text,\n",
    "        'label': label,\n",
    "        'embedding': embedding\n",
    "    }\n",
    "\n",
    "    # Append the result to the list of results\n",
    "    results.append(result)\n",
    "\n",
    "# Save the results to 'vectors.json'\n",
    "with open('vectors.json', 'w', encoding='utf-8') as output_file:\n",
    "    json.dump(results, output_file, indent=4)\n",
    "\n",
    "print('Embedding vectors have been saved to vectors.json')\n"
   ]
  },
  {
   "cell_type": "markdown",
   "id": "f4a5059e-f8de-43e0-94cd-d19d87bf8a72",
   "metadata": {},
   "source": [
    "## Prepare training dataset 800 records, and test dataset 200 records\n",
    "You'll need to read the 'vectors.json' file, extract the first 100 and last 100 records, and then save them to 'test.json' and the remaining 800 records to 'train.json'. Here's a sample code to do this:"
   ]
  },
  {
   "cell_type": "code",
   "execution_count": 16,
   "id": "8a6bba6e-eccf-4a07-8902-8bdafce1f0d7",
   "metadata": {
    "tags": []
   },
   "outputs": [],
   "source": [
    "import json\n",
    "\n",
    "# Load the 'vectors.json' file\n",
    "with open('vectors.json', 'r') as json_file:\n",
    "    data = json.load(json_file)\n",
    "\n",
    "# Extract the first 100 and last 100 records\n",
    "first_100_records = data[:100]\n",
    "last_100_records = data[-100:]\n",
    "\n",
    "# Create 'test.json' with the combined 200 records\n",
    "test_data = first_100_records + last_100_records\n",
    "with open('test.json', 'w') as test_file:\n",
    "    json.dump(test_data, test_file)\n",
    "\n",
    "# Create 'train.json' with the remaining 800 records\n",
    "train_data = data[100:-100]\n",
    "with open('train.json', 'w') as train_file:\n",
    "    json.dump(train_data, train_file)\n"
   ]
  },
  {
   "cell_type": "markdown",
   "id": "4ec0d7cd-7405-4130-9af9-289d27b06683",
   "metadata": {},
   "source": [
    "## Covert embedding vectors into numpy array, train by RandomForestClassifier"
   ]
  },
  {
   "cell_type": "code",
   "execution_count": 17,
   "id": "f668984f-d219-4eb2-94b4-7a0becf4a75d",
   "metadata": {
    "tags": []
   },
   "outputs": [
    {
     "name": "stdout",
     "output_type": "stream",
     "text": [
      "Collecting numpy==1.16.5\n",
      "  Downloading numpy-1.16.5.zip (5.1 MB)\n",
      "\u001b[2K     \u001b[90m━━━━━━━━━━━━━━━━━━━━━━━━━━━━━━━━━━━━━━━━\u001b[0m \u001b[32m5.1/5.1 MB\u001b[0m \u001b[31m38.3 MB/s\u001b[0m eta \u001b[36m0:00:00\u001b[0m:00:01\u001b[0m00:01\u001b[0m\n",
      "\u001b[?25h  Preparing metadata (setup.py) ... \u001b[?25ldone\n",
      "\u001b[?25hBuilding wheels for collected packages: numpy\n",
      "  Building wheel for numpy (setup.py) ... \u001b[?25ldone\n",
      "\u001b[?25h  Created wheel for numpy: filename=numpy-1.16.5-cp38-cp38-linux_x86_64.whl size=10166035 sha256=cc5983f67f15f4591da4403b98176ddd409534f66d538c8db8af84469e56027d\n",
      "  Stored in directory: /root/.cache/pip/wheels/8f/3f/d3/ac786baa3379136ed1069cf94478550de71616e0490b462e90\n",
      "Successfully built numpy\n",
      "\u001b[33mDEPRECATION: pyodbc 4.0.0-unsupported has a non-standard version number. pip 23.3 will enforce this behaviour change. A possible replacement is to upgrade to a newer version of pyodbc or contact the author to suggest that they release a version with a conforming version number. Discussion can be found at https://github.com/pypa/pip/issues/12063\u001b[0m\u001b[33m\n",
      "\u001b[0mInstalling collected packages: numpy\n",
      "  Attempting uninstall: numpy\n",
      "    Found existing installation: numpy 1.24.4\n",
      "    Uninstalling numpy-1.24.4:\n",
      "      Successfully uninstalled numpy-1.24.4\n",
      "\u001b[31mERROR: pip's dependency resolver does not currently take into account all the packages that are installed. This behaviour is the source of the following dependency conflicts.\n",
      "daal4py 2021.3.0 requires daal==2021.2.3, which is not installed.\n",
      "astropy 4.3.1 requires numpy>=1.17, but you have numpy 1.16.5 which is incompatible.\n",
      "numba 0.54.1 requires numpy<1.21,>=1.17, but you have numpy 1.16.5 which is incompatible.\n",
      "pandas 1.3.4 requires numpy>=1.17.3, but you have numpy 1.16.5 which is incompatible.\n",
      "pyarrow 12.0.1 requires numpy>=1.16.6, but you have numpy 1.16.5 which is incompatible.\n",
      "pyerfa 2.0.0 requires numpy>=1.17, but you have numpy 1.16.5 which is incompatible.\n",
      "sagemaker-data-insights 0.3.3 requires numpy>=1.21.6, but you have numpy 1.16.5 which is incompatible.\n",
      "sagemaker-datawrangler 0.4.3 requires sagemaker-data-insights==0.4.0, but you have sagemaker-data-insights 0.3.3 which is incompatible.\u001b[0m\u001b[31m\n",
      "\u001b[0mSuccessfully installed numpy-1.16.5\n",
      "\u001b[33mWARNING: Running pip as the 'root' user can result in broken permissions and conflicting behaviour with the system package manager. It is recommended to use a virtual environment instead: https://pip.pypa.io/warnings/venv\u001b[0m\u001b[33m\n",
      "\u001b[0m"
     ]
    }
   ],
   "source": [
    "!pip install numpy==1.16.5\n"
   ]
  },
  {
   "cell_type": "code",
   "execution_count": 18,
   "id": "96c3dd9f-6872-46d6-a7e6-cc108fdf11c1",
   "metadata": {
    "tags": []
   },
   "outputs": [
    {
     "name": "stderr",
     "output_type": "stream",
     "text": [
      "/opt/conda/lib/python3.8/site-packages/scipy/__init__.py:146: UserWarning: A NumPy version >=1.16.5 and <1.23.0 is required for this version of SciPy (detected version 1.24.4\n",
      "  warnings.warn(f\"A NumPy version >={np_minversion} and <{np_maxversion}\"\n"
     ]
    }
   ],
   "source": [
    "import json\n",
    "import numpy as np\n",
    "from sklearn.ensemble import RandomForestClassifier\n",
    "from sklearn.metrics import accuracy_score, precision_score, recall_score, f1_score, roc_auc_score, classification_report"
   ]
  },
  {
   "cell_type": "markdown",
   "id": "febb83f9-c3e9-4aeb-8b2c-62c1a1cdd8f3",
   "metadata": {},
   "source": [
    "### Training a model"
   ]
  },
  {
   "cell_type": "code",
   "execution_count": 19,
   "id": "759db9e6-c1d1-437f-b80b-ec7d3c0b6815",
   "metadata": {
    "tags": []
   },
   "outputs": [
    {
     "name": "stdout",
     "output_type": "stream",
     "text": [
      "Accuracy: 0.99\n",
      "Precision: 0.99\n",
      "Recall: 0.99\n",
      "F1-score: 0.99\n",
      "ROC-AUC: 0.99985\n",
      "Classification Report:\n",
      "                 precision    recall  f1-score   support\n",
      "\n",
      "    compliance       0.99      0.99      0.99       100\n",
      "non-compliance       0.99      0.99      0.99       100\n",
      "\n",
      "      accuracy                           0.99       200\n",
      "     macro avg       0.99      0.99      0.99       200\n",
      "  weighted avg       0.99      0.99      0.99       200\n",
      "\n"
     ]
    }
   ],
   "source": [
    "\n",
    "\n",
    "# Load the training dataset from 'training.json'\n",
    "with open('train.json', 'r') as f:\n",
    "    training_data = json.load(f)\n",
    "\n",
    "# Load the test dataset from 'test.json'\n",
    "with open('test.json', 'r') as f:\n",
    "    test_data = json.load(f)\n",
    "\n",
    "# Extract features (embedding vectors) and labels from the datasets\n",
    "X_train = [data_point[\"embedding\"] for data_point in training_data]\n",
    "y_train = [data_point[\"label\"] for data_point in training_data]\n",
    "\n",
    "X_test = [data_point[\"embedding\"] for data_point in test_data]\n",
    "y_test = [data_point[\"label\"] for data_point in test_data]\n",
    "\n",
    "# Convert lists to numpy arrays for scikit-learn\n",
    "X_train = np.array(X_train)\n",
    "y_train = np.array(y_train)\n",
    "\n",
    "X_test = np.array(X_test)\n",
    "y_test = np.array(y_test)\n",
    "\n",
    "# Build the classification model (Random Forest in this example)\n",
    "clf = RandomForestClassifier(n_estimators=100, random_state=42)\n",
    "\n",
    "# Train the model\n",
    "clf.fit(X_train, y_train)\n",
    "\n",
    "# Evaluate the model\n",
    "y_pred = clf.predict(X_test)\n",
    "\n",
    "# Calculate and print accuracy\n",
    "accuracy = accuracy_score(y_test, y_pred)\n",
    "print(\"Accuracy:\", accuracy)\n",
    "\n",
    "# Calculate and print precision\n",
    "precision = precision_score(y_test, y_pred, average='weighted')\n",
    "print(\"Precision:\", precision)\n",
    "\n",
    "# Calculate and print recall\n",
    "recall = recall_score(y_test, y_pred, average='weighted')\n",
    "print(\"Recall:\", recall)\n",
    "\n",
    "# Calculate and print F1-score\n",
    "f1 = f1_score(y_test, y_pred, average='weighted')\n",
    "print(\"F1-score:\", f1)\n",
    "\n",
    "# Calculate and print ROC-AUC score (Note: ROC-AUC is typically used for binary classification)\n",
    "if len(np.unique(y_test)) == 2:  # Check if it's a binary classification problem\n",
    "    roc_auc = roc_auc_score(y_test, clf.predict_proba(X_test)[:, 1])\n",
    "    print(\"ROC-AUC:\", roc_auc)\n",
    "\n",
    "# Print the detailed classification report\n",
    "classification_report_str = classification_report(y_test, y_pred)\n",
    "print(\"Classification Report:\\n\", classification_report_str)\n"
   ]
  },
  {
   "cell_type": "markdown",
   "id": "76308f17-55cf-4caf-a60c-87488cdfec0f",
   "metadata": {},
   "source": [
    "### Load the Trained Model\n",
    "Load the trained Random Forest classifier that you previously trained and saved. If you haven't saved the model, you should save it after training for later use. You can use the joblib library to save and load scikit-learn models."
   ]
  },
  {
   "cell_type": "code",
   "execution_count": 20,
   "id": "b08aea5a-a698-40f8-afee-5e653fa53f42",
   "metadata": {
    "tags": []
   },
   "outputs": [
    {
     "data": {
      "text/plain": [
       "['trained_model.joblib']"
      ]
     },
     "execution_count": 20,
     "metadata": {},
     "output_type": "execute_result"
    }
   ],
   "source": [
    "# saving the model after training:\n",
    "\n",
    "from joblib import dump\n",
    "\n",
    "# Train the model (assuming 'clf' is your trained classifier)\n",
    "clf.fit(X_train, y_train)\n",
    "\n",
    "# Save the trained model to a file\n",
    "dump(clf, 'trained_model.joblib')\n"
   ]
  },
  {
   "cell_type": "code",
   "execution_count": 21,
   "id": "727022d6-51e2-4d99-9d8c-2c0bea2426ec",
   "metadata": {
    "tags": []
   },
   "outputs": [],
   "source": [
    "# loading the saved model for inference:\n",
    "\n",
    "from joblib import load\n",
    "\n",
    "# Load the trained model from a file\n",
    "clf = load('trained_model.joblib')\n"
   ]
  },
  {
   "cell_type": "markdown",
   "id": "cd759073-1aa4-4e75-a217-3dfa58e46872",
   "metadata": {},
   "source": [
    "## Prepare New Data\n",
    "\n",
    "You need to preprocess the new data in the same way you preprocessed your training and test data. In your case, it appears you'll need to obtain the LLM embedding vectors for the new text data using your 'get_embedding' function."
   ]
  },
  {
   "cell_type": "markdown",
   "id": "dc58a351-ab46-47f8-bd8c-eb73b6b3930b",
   "metadata": {},
   "source": [
    "### To load JSON data from the 'email_content_english.json' file into the new_text variable, you can use the following code:"
   ]
  },
  {
   "cell_type": "code",
   "execution_count": 22,
   "id": "3789876b-e9e5-4ad4-b3b2-bd3b8e8553bc",
   "metadata": {
    "tags": []
   },
   "outputs": [],
   "source": [
    "import json\n",
    "\n",
    "# Specify the filename of the JSON file\n",
    "json_filename = 'email_content_english.json'\n",
    "\n",
    "# Load the JSON data from the file into 'new_text'\n",
    "with open(json_filename, 'r', encoding='utf-8') as json_file:\n",
    "    data = json.load(json_file)\n",
    "\n",
    "# Assuming that the JSON file has a key named 'inputText' containing the text data\n",
    "new_text = data.get('inputText', '')\n",
    "\n",
    "# Now, 'new_text' contains the text data from the JSON file\n"
   ]
  },
  {
   "cell_type": "markdown",
   "id": "b9045668-eaa2-423c-a3f6-557f7df6042d",
   "metadata": {},
   "source": [
    "### Now, the new_text variable contains the text data loaded from 'email_content_english.json,' and you can use it to calculate the embedding as shown in your code:"
   ]
  },
  {
   "cell_type": "code",
   "execution_count": 23,
   "id": "66a7931c-4339-4516-bfdd-1f20678da12a",
   "metadata": {
    "tags": []
   },
   "outputs": [],
   "source": [
    "new_text_embedding = get_embedding(json.dumps({\"inputText\": new_text}), modelId, accept, contentType)\n"
   ]
  },
  {
   "cell_type": "code",
   "execution_count": 24,
   "id": "df7b03da-f153-4fdc-8fe1-2b6e7f5d860a",
   "metadata": {
    "tags": []
   },
   "outputs": [
    {
     "name": "stdout",
     "output_type": "stream",
     "text": [
      "new_text_embedding: [-0.07324219, 0.036865234, -0.10107422, 0.004760742, 0.3125, 0.37304688, 0.06542969, 0.055908203, -0.028930664, 0.109375, -0.24414062, 0.0016021729, 0.0060424805, -0.046875, -0.018188477, 0.041015625, -0.068847656, -0.12695312, 0.07861328, -0.23242188, -0.008911133, -0.016845703, 0.060791016, 0.023803711, -0.018676758, 0.084472656, -0.076171875, 0.053710938, -0.011291504, -0.0056762695, -0.064941406, 0.021484375, -0.16601562, -0.16015625, -0.15820312, 0.08886719, -0.05078125, -0.16796875, -0.15527344, 0.08642578, 0.18945312, 0.06201172, -0.06982422, -0.15625, -0.07910156, 0.100097656, -0.14941406, -0.18945312, -0.045410156, -0.2265625, 0.03564453, -0.033691406, 0.111328125, -0.017333984, -0.068359375, -0.08886719, -0.16015625, -0.09472656, 0.080078125, 0.110839844, 0.04296875, -0.2109375, 0.16503906, 0.100097656, 0.1796875, 0.10107422, 0.028076172, 0.052734375, -0.05859375, -0.056152344, -0.080078125, 0.09716797, 0.033691406, 0.049560547, 0.12011719, -0.044921875, -0.034179688, 3.0517578e-05, 0.07763672, 0.203125, -0.030029297, -0.05102539, -0.18457031, 0.026733398, 0.17480469, -0.0041503906, 0.19921875, -0.34179688, -0.099609375, 0.1015625, 0.026489258, 0.25195312, -0.06738281, -0.04663086, 0.26757812, 0.10986328, 0.26953125, -0.020751953, -0.015258789, -0.0017242432, 0.05126953, 0.0007324219, -0.036621094, 0.13085938, -0.035888672, -0.029052734, 0.055664062, -0.037109375, 0.018554688, -0.06542969, 0.14648438, 0.079589844, -0.16699219, -0.24609375, -0.03466797, -0.080566406, -0.26171875, -0.0014648438, -0.0859375, 0.083984375, 0.18066406, 0.092285156, -0.09375, -0.11425781, 0.16796875, -0.0066833496, -0.06201172, -0.13671875, 0.1484375, 0.01977539, 0.044677734, -0.057128906, -0.16210938, -0.050048828, 0.05908203, -0.055664062, 0.057128906, -0.0115356445, -0.21679688, -0.24804688, -0.03515625, 0.08984375, -0.20214844, 0.040527344, -0.16601562, 0.15917969, 11.0625, -0.076171875, 0.06738281, -0.04638672, -0.019042969, -0.084472656, -0.020507812, 0.19238281, 0.06738281, 0.095214844, -0.010559082, 0.11230469, -0.13671875, 0.21582031, 0.09765625, -0.15625, -0.0075683594, -0.328125, -0.017822266, 0.15527344, 0.14941406, -0.076171875, 0.296875, -0.021240234, -0.13378906, 0.04345703, 0.10253906, -0.21679688, 0.023925781, 0.076171875, -0.07714844, 0.296875, -0.039794922, 0.10107422, 0.16210938, -0.013671875, 0.27929688, -0.00024414062, -0.067871094, 0.0065307617, 0.08642578, 0.23828125, 0.19335938, 0.18847656, -0.26953125, -0.32617188, -0.0075683594, -0.0703125, 0.09765625, -0.27539062, 0.15527344, -0.11669922, -0.19140625, 0.03466797, 0.020019531, -0.043945312, -0.2109375, -0.025390625, -0.19238281, 0.027832031, -0.26171875, 0.035888672, 0.0021514893, -0.11425781, -0.032958984, 0.083496094, -0.032226562, 0.13378906, 0.13085938, -0.27734375, 0.017089844, 0.15039062, 0.05029297, -0.0056762695, 0.005859375, 0.024414062, -0.24316406, 0.0107421875, -0.16015625, 0.20605469, 0.14257812, 0.036621094, -0.010253906, -0.07714844, 0.041992188, 0.38671875, -0.039794922, -0.18261719, -0.07373047, -0.083984375, 0.1015625, 0.1875, 0.18164062, -0.29492188, -0.12988281, 0.09423828, -0.15722656, -0.032714844, 0.021118164, 0.20605469, 0.014709473, -0.061035156, 0.111328125, 0.026855469, -0.1171875, -0.0703125, -0.09082031, 0.014526367, -0.038330078, -0.09716797, -0.09033203, 0.078125, -0.034179688, -0.036621094, 0.09277344, -0.08300781, -0.099609375, -0.16992188, 0.005126953, -0.106933594, 0.0041503906, 0.034423828, 0.055419922, 0.15722656, 0.059814453, -0.07714844, 0.13574219, -0.33398438, -0.020019531, 0.109375, 0.20996094, -0.091796875, 0.033691406, 0.1328125, 0.22558594, -0.18554688, -0.21289062, 0.075683594, -0.31640625, -0.140625, -0.11621094, -0.14550781, 0.0031433105, 0.1640625, -0.16113281, -0.028442383, -0.04272461, 0.020629883, -0.022949219, 0.037109375, -0.103027344, 0.008422852, -0.095214844, 0.091796875, 0.29101562, 0.03100586, 0.14746094, 0.038085938, -0.056884766, 0.03930664, 0.12597656, -0.25585938, 0.12597656, -0.052246094, -0.118652344, -0.10205078, 0.12988281, 0.08300781, -0.13574219, -0.079589844, 0.13085938, -0.036376953, 0.10888672, 0.053222656, 0.033203125, 0.1640625, 0.014160156, -0.1640625, 0.13085938, -0.140625, 0.05419922, -0.28515625, -0.12988281, 0.055908203, -0.18164062, 0.029541016, 0.032226562, -0.013305664, 0.016601562, -0.041992188, 0.095703125, -0.16210938, 0.09472656, 0.26757812, -0.024658203, -0.09326172, -0.024658203, -0.16503906, 0.036132812, -0.14257812, -0.19433594, -0.12158203, -0.0625, 0.110839844, 0.22558594, 0.088378906, -0.0859375, -0.12890625, -0.047851562, -0.04345703, 0.076660156, -0.0009765625, 0.007507324, -0.30859375, -0.03125, -0.064941406, -0.140625, 0.19433594, -0.051757812, -0.0049438477, -0.0546875, -0.1328125, -0.08984375, -0.15917969, -0.08105469, -0.171875, -0.15527344, 0.038085938, 0.18945312, 0.020996094, -0.111328125, -0.00024414062, -0.06933594, -0.1328125, -0.18457031, -0.16796875, -0.026367188, -0.10058594, 0.03466797, -0.023071289, -0.012329102, 0.063964844, -0.0625, -0.18359375, 0.04345703, 0.16113281, 0.07373047, 0.17675781, 0.15039062, 0.115722656, 0.122558594, 0.26171875, 0.25195312, -0.01940918, -0.08203125, -0.1015625, -0.12109375, -0.04638672, 0.013305664, 0.05029297, 0.024902344, -0.09082031, 0.16601562, -0.030883789, -0.064453125, 0.099609375, -0.029541016, 0.009033203, -0.19140625, 0.17578125, -0.032714844, -0.12011719, -0.07519531, -0.0053710938, 0.17675781, 0.061279297, 0.08691406, -0.08300781, 0.13183594, -0.04638672, 0.16699219, -0.10888672, 0.20117188, 0.099121094, 0.0064697266, -0.118652344, 0.15722656, -0.26953125, -0.024414062, -0.234375, -0.06982422, -0.021362305, 0.078125, -0.22363281, 0.12988281, 0.038330078, 0.061035156, -0.049560547, 0.030761719, 0.20996094, -0.08496094, -0.0038604736, 0.053710938, 0.061523438, -0.20996094, 0.05078125, 0.06201172, 0.18554688, 0.08886719, -0.111816406, 0.0703125, 0.028808594, 0.10058594, -0.068847656, 0.068847656, 0.07080078, -0.16015625, -0.03564453, -0.28125, 0.11230469, 0.036376953, 0.03955078, -0.15625, -0.083984375, -0.18164062, -0.10644531, -0.18652344, -0.002319336, 0.012817383, -0.04321289, 0.06640625, 0.11816406, -0.08496094, 0.2578125, -0.0703125, -0.14160156, -0.18457031, -0.09765625, 0.13964844, 0.024414062, 0.123535156, -0.15527344, -0.028198242, -0.123535156, -0.0079956055, -0.10986328, 0.10839844, -0.30273438, 0.00048828125, 0.07470703, -0.12695312, 0.3046875, -0.012573242, -0.0146484375, -0.17871094, -0.099609375, -0.14648438, 0.048339844, 0.13183594, 0.3203125, 0.0703125, 0.037353516, -0.12011719, -0.2421875, -0.012939453, -0.03540039, -0.060546875, -0.087890625, 0.08300781, 0.17578125, -0.18066406, -0.21386719, 0.014282227, 0.02758789, 0.13378906, 0.076660156, 0.04638672, -0.09375, -0.004211426, 0.0126953125, -0.14453125, -0.0012817383, -0.007385254, 0.23828125, 0.083984375, -0.09277344, 0.2265625, -0.033203125, 0.014770508, 0.061035156, 0.0703125, 0.007080078, -0.052001953, -0.022216797, -0.15820312, -0.15136719, -0.067871094, -0.041503906, -0.014709473, 0.14355469, -0.24902344, -0.09277344, 0.22753906, 0.1015625, -0.017456055, -0.056152344, 0.110839844, -0.03491211, -0.033691406, 0.0053100586, -0.052001953, -0.043701172, 0.12109375, 0.17578125, -0.2109375, -0.08886719, 0.07861328, -0.140625, -0.084472656, 0.1640625, -0.16894531, -0.009277344, 0.05126953, -0.043945312, -0.20898438, 0.0072021484, -0.063964844, -0.19335938, 0.052734375, 0.02758789, -0.13867188, 0.009277344, -0.056152344, 0.0859375, 0.03564453, 0.19140625, 0.03881836, -0.033935547, -0.021972656, 0.16992188, -0.20605469, 0.29101562, 0.064941406, 0.029296875, -0.20703125, 0.12890625, 0.075683594, 0.05908203, -0.07519531, 0.0146484375, 0.11328125, 0.0005950928, -0.19433594, 0.17773438, 0.015380859, -0.19921875, -0.03564453, -0.20703125, -0.10058594, 0.115722656, -0.096191406, -0.049560547, -0.0057373047, -0.032714844, 0.020629883, -0.08105469, 0.104003906, 0.030517578, 0.17675781, -0.15820312, 0.095703125, 0.083984375, 0.115234375, -0.15722656, -0.11621094, -0.16308594, 0.12890625, 0.09375, -0.15527344, 0.21289062, 0.07324219, -0.1640625, 0.17480469, -0.05517578, 0.016479492, -0.034179688, -0.13476562, -0.15722656, 0.23144531, -0.011962891, -0.14355469, -0.103027344, 0.01953125, 0.068847656, -0.06933594, -0.011413574, -0.061035156, -0.040039062, -0.119628906, 0.22265625, 0.16601562, -0.07519531, 0.064453125, -0.09472656, 0.018798828, 0.011169434, -0.039794922, -0.23535156, 0.075683594, -0.14550781, 0.11425781, 0.06640625, 0.09716797, -0.16015625, 0.19335938, -0.06542969, -0.0028076172, -0.064453125, -0.0546875, -0.08300781, 0.0032348633, -0.08496094, 0.12109375, -0.12695312, 0.037109375, 0.0703125, -0.32617188, -0.025146484, 0.095214844, -0.07910156, -0.09472656, -0.10058594, -0.03466797, -0.07080078, -0.064941406, 0.017578125, 0.10058594, -0.18066406, 0.18359375, -0.03173828, 0.1484375, -0.01550293, 0.20019531, 0.07421875, -0.011962891, -0.12451172, -0.05908203, -0.171875, 0.13867188, -0.05102539, 0.119140625, 0.11230469, -0.041259766, -0.08984375, 0.16601562, -0.02758789, 0.08984375, 0.10546875, -0.20507812, 0.075683594, 0.010925293, 0.02319336, 0.27929688, -0.06347656, -0.045166016, 0.068359375, -0.014892578, -0.114746094, -0.031982422, -0.05078125, 0.25390625, 0.15917969, 0.025146484, 0.041503906, 0.17382812, 0.0703125, 0.056640625, 0.036132812, 0.012084961, -0.17675781, 0.11328125, 0.12988281, -0.2265625, 0.09375, -0.009277344, 0.13574219, -0.064453125, -0.13671875, -0.19140625, -0.020263672, -0.09375, -0.20019531, -0.15136719, -0.055664062, -0.08544922, -0.2734375, -0.09326172, 0.095703125, 0.08300781, -0.123046875, 0.016113281, 0.05908203, -0.023803711, 0.08300781, -0.24609375, -0.04638672, 0.00048828125, -0.12109375, 0.05029297, 0.16015625, -0.091796875, 0.071777344, 0.24511719, 0.095214844, 0.08935547, -0.08496094, -0.19140625, 0.09765625, -0.27539062, -0.018310547, -0.026611328, 0.21972656, -0.026611328, -0.044921875, -0.13671875, 0.049316406, -0.07910156, 0.1953125, 0.10498047, 0.15429688, -0.08105469, 0.020751953, -0.040283203, -0.107910156, -0.13085938, -0.05859375, 0.038330078, 0.14648438, -0.24511719, 0.47265625, -0.07714844, 0.09277344, -0.17675781, 0.071777344, -0.037353516, -0.046142578, 0.18261719, 0.008361816, -0.053710938, 0.18066406, -0.103027344, 0.052734375, 0.0390625, 0.057128906, 0.13378906, -0.080566406, -0.18847656, -0.072753906, -0.010437012, -0.07714844, -0.026367188, 0.23828125, -0.034423828, 0.0625, 0.021118164, -0.11328125, -0.10546875, 0.10839844, -0.013183594, -0.1875, 0.16210938, 0.040527344, 0.17382812, 0.0546875, 0.099609375, 0.031982422, -0.14355469, 0.037109375, -0.123535156, 0.031982422, 0.092285156, 0.12890625, 0.14257812, 0.14550781, 0.14257812, 0.12011719, -0.060302734, 0.013793945, 0.14550781, -0.13867188, 0.033447266, 0.091796875, -0.033691406, -0.04296875, 0.0063476562, -0.109375, 0.14648438, 0.008361816, -0.038330078, -0.049804688, 0.11621094, 0.19433594, -0.02709961, 0.19628906, 0.122558594, -0.14453125, 0.05029297, 0.12695312, -0.0234375, -0.08105469, -0.08300781, -0.03149414, -0.2265625, 0.040283203, 0.0126953125, 0.15527344, -0.09277344, -0.011291504, 0.09375, -0.016723633, 0.22949219, -0.051757812, -0.107910156, 0.12402344, 0.040039062, 0.030029297, 0.024414062, 0.24316406, -0.15722656, 0.09033203, 0.14257812, 0.27734375, 0.053955078, -0.080078125, -0.1328125, 0.04638672, -0.24023438, 0.012207031, 0.06640625, -0.044433594, 0.05810547, -0.15820312, -0.21289062, -0.09033203, -0.052734375, 0.0625, -0.09375, -0.021362305, 0.17773438, 0.012268066, -0.119140625, -0.10449219, -0.08496094, -0.25390625, 0.07519531, -0.0040283203, -0.13183594, 0.32226562, -0.13476562, 0.06933594, -0.053710938, 0.021240234, 0.040283203, 0.052734375, 0.020996094, 0.111328125, -0.11767578, -0.10253906, 0.025390625, -0.061767578, 0.09814453, -0.125, 0.055908203, -0.030029297, -0.08300781, -0.14257812, -0.19238281, -0.16503906, 0.08886719, 0.17480469, -0.044677734, 0.03930664, -0.08105469, 0.021972656, -0.00390625, -0.17382812, 0.1328125, 0.123535156, -0.030639648, -0.140625, 0.20214844, 0.15917969, -0.059326172, 0.25390625, -0.140625, 0.027832031, 0.006072998, 0.06347656, -0.24121094, -0.08105469, 0.15429688, -0.15625, 0.010986328, -0.11669922, -0.13671875, 0.00061035156, 0.15234375, -0.18164062, 0.032226562, -0.099609375, -0.12109375, -0.12890625, 0.0859375, -0.029663086, -0.12109375, 0.0625, -0.056396484, -0.076171875, -0.123046875, -0.08691406, 0.12060547, 0.01574707, 0.041259766, 0.18066406, 0.16113281, -0.026855469, 0.030761719, 0.060302734, -0.09472656, 0.109375, 0.12597656, 0.16015625, -0.14648438, -0.23046875, 0.04736328, 0.107421875, -0.171875, -0.08203125, 0.037353516, -0.044433594, -0.027954102, 0.08544922, 0.025756836, -0.123046875, 0.024902344, 0.025268555, -0.010131836, -0.011291504, -0.05883789, 0.20019531, -0.11035156, 0.021728516, 0.0036010742, 0.15722656, -0.05908203, -0.10253906, 0.119628906, -0.041503906, -0.04736328, -0.014404297, -0.12158203, 0.119140625, -0.12402344, -0.029541016, -0.041015625, 0.05859375, -0.052490234, 0.027832031, -0.1640625, 0.08691406, 0.06738281, -0.020751953, -0.032470703, 0.041992188, -0.020507812, 0.15039062, -0.025878906, -0.076171875, 0.03173828, -0.140625, 0.044921875, -0.0625, -0.083984375, 0.041503906, 0.42578125, -0.0020751953, -0.0013427734, -0.12109375, -0.10107422, -0.15722656, -0.020751953, 0.21679688, 0.06933594, 0.11669922, 0.13378906, 0.021728516, -0.1953125, 0.15820312, -0.06347656, -0.11816406, -0.21679688, -0.07128906, -0.10839844, 0.09375, -0.18554688, 0.45507812, -0.052734375, 0.095703125, -0.10888672, 0.09277344, -0.10546875, 0.004699707, 0.087890625, 0.1953125, 0.14648438, -0.017089844, -0.06738281, -0.0076904297, -0.08300781, -0.11767578, -0.12207031, -0.06542969, -0.0041503906, 0.008300781, -0.15429688, -0.0859375, 0.026611328, 0.10498047, -0.05078125, 0.13671875, -0.021972656, 0.08251953, 0.13085938, -0.12988281, -0.09814453, 0.03149414, -0.020019531, 0.11621094, -0.033203125, -0.09863281, 0.045410156, -0.08642578, 0.125, -0.1015625, -0.123535156, -0.012084961, -0.010864258, -0.021728516, 0.045898438, 0.076660156, 0.125, -0.009033203, 0.33984375, 0.09082031, 0.04272461, 0.040039062, -0.006439209, 0.008056641, -0.18066406, -0.09863281, -0.022705078, 0.0625, 0.22949219, 0.1015625, 0.029052734, -0.06640625, -0.055664062, -0.08105469, -0.29492188, -0.06982422, -0.056152344, -0.11425781, -0.05517578, -0.16796875, -0.12890625, 0.103027344, -0.02709961, 0.18261719, -0.03100586, 0.0625, 0.05078125, -0.0859375, 0.16015625, -0.22753906, 0.08691406, 0.099121094, -0.006164551, -0.122558594, 0.037597656, 0.011047363, 0.083496094, 0.15820312, -0.1796875, -0.005004883, -0.20996094, 0.11230469, -0.26171875, -0.08886719, -0.040527344, -0.13769531, -0.20507812, -0.1953125, 0.10644531, -0.103515625, -0.016113281, -0.10205078, -0.11035156, -0.140625, -0.0014648438, 0.05444336, -0.03515625, -0.10839844, 0.022949219, 0.12451172, -0.05810547, 0.03125, 0.0062561035, -0.07373047, 0.09667969, -0.017822266, 0.110839844, -0.001953125, 0.07128906, -0.099609375, -0.048095703, 0.12109375, 0.109375, 0.049804688, -0.0079956055, -0.08203125, -0.16503906, 0.125, -0.076171875, -0.125, -0.18066406, -0.118652344, -0.08300781, -0.014404297, -0.29101562, -0.0234375, -0.049316406, 0.03466797, -0.078125, -0.048339844, -0.034179688, 0.13964844, 0.07519531, 0.095703125, 0.0074157715, 0.20019531, 0.016845703, -0.18847656, -0.008728027, 0.140625, 0.14453125, -0.22167969, -0.15527344, 0.0061950684, 0.07324219, -0.040527344, 0.07861328, 0.08984375, -0.123046875, -0.17578125, -0.064453125, 0.13671875, 0.044921875, 0.005493164, 0.095214844, -0.059570312, 0.02319336, -0.06298828, 0.008911133, -0.23730469, -0.16210938, 0.21386719, 0.037841797, -0.005493164, 0.16796875, -0.055664062, -0.10595703, -0.21972656, -0.22949219, -0.15820312, 0.15039062, 0.078125, 0.008666992, -0.1640625, -0.0034179688, -0.21484375, -0.043701172, 0.01977539, 0.125, 0.21191406, -0.20117188, 0.10986328, -0.09472656, -0.13867188, -0.22851562, -0.19433594, 0.12890625, -0.115234375, -0.4140625, -0.028564453, -0.12792969, 0.06689453, 0.0031738281, -0.00970459, 0.091796875, -0.09667969, 0.04638672, -0.21289062, 0.22753906, 0.011352539, -0.052978516, 0.038330078, 0.03100586, -0.008911133, -0.22949219, -0.0076293945, -0.30664062, 0.055664062, 0.024780273, 0.068359375, -0.052734375, 0.078125, 0.19433594, -0.12695312, -0.11376953, -0.07519531, -0.088378906, -0.12451172, 0.028076172, -0.008300781, 0.14453125, 0.009521484, -0.048339844, 0.053222656, -0.13574219, -0.049072266, -0.11621094, -0.04711914, 0.091796875, -0.07421875, 0.045898438, 0.23242188, 0.022705078, -0.044921875, -0.10546875, -0.099609375, 0.12011719, 0.16894531, 0.265625, -0.19335938, -0.099609375, 0.00091552734, -0.10058594, -0.22558594, -0.08984375, -0.109375, -0.15625, 0.06201172, -0.1484375, -0.18359375, -0.016113281, -0.10253906, 0.14941406, 0.037597656, -0.013427734, -0.07519531, 0.25, -0.20117188, -0.20507812, 0.09472656, 0.015014648, 0.03125, -0.09375, 0.024536133, 0.14746094, 0.24609375, 0.052978516, -0.10058594, 0.24316406, -0.014404297, -0.21386719, 0.0015869141, 0.06640625, -0.13867188, -0.0040893555, -0.2265625, 0.1640625, 0.111328125, 0.18359375, 0.11669922, 0.041503906, 0.04638672, -0.11279297, -0.15136719, -0.08642578, 0.00018310547, -0.107421875, 0.018798828, -0.3984375, 0.18359375, -0.0032348633, -0.028686523, 0.088378906, -0.09863281, 0.078125, -0.13378906, -0.07324219, -0.07324219, -0.05493164, 0.20117188, 0.20507812, 0.24316406, 0.091308594, 0.21484375, -0.20703125, -0.041992188, -0.009887695, 0.03930664, -0.03564453, 0.08544922, 0.06933594, -0.10449219, 0.15917969, 0.044921875, -0.028320312, -0.016723633, 0.06542969, 0.045898438, 0.039794922, -0.15136719, 0.053710938, 0.008239746, -0.05029297, -0.06738281, -0.084472656, -0.16796875, 0.07714844, -0.17480469, 0.11376953, -0.13964844, 0.024902344, 0.017211914, 0.083496094, 0.036376953, 0.06933594, -0.07470703, 0.0048828125, -0.0028076172, 0.020751953, 0.032714844, 0.103515625, 0.10644531, 0.12988281, 0.076171875, -0.0021362305, -0.05859375, 0.010681152, -0.0056152344, 0.21777344, -0.10546875, 0.11816406, -0.06298828, -0.107910156, -0.04296875, -0.046875, -0.30859375, -0.06347656, -0.016723633, 0.28710938, 0.115234375, 0.071777344, 0.010498047, 0.099609375, 0.06542969, -0.1328125, -0.106933594, 0.10644531, 0.052978516, -0.013671875, 0.03173828, -0.123046875, -0.010253906, -0.19140625, -0.092285156, 0.024169922, 0.19726562, 0.006713867, 0.140625, -0.13476562, -0.059326172, 0.0234375, 0.14160156, -0.09375, -0.045898438, -0.029663086, 0.01940918, -0.110839844, -0.22753906, -0.08886719, 0.23632812, 0.07519531, -0.043945312, -0.19042969, -0.20703125, 0.012207031, 0.17382812, -0.006164551, 0.071777344, 0.028076172, 0.20410156, 0.17773438, 0.009338379, -0.22070312, 0.013305664, 0.018310547, 0.068847656, -0.13867188, -0.16503906, 0.12890625, 0.052246094, -0.08691406, -0.04736328, 0.006713867, 0.10253906, 0.13085938, 0.07373047, -0.011047363, -0.07421875, 0.107421875, -0.14355469, -0.20019531, -0.047851562, 0.140625, 0.063964844, -0.09765625, -0.43554688, 0.040527344, 0.14453125, 0.07714844, -0.1015625, -0.1328125, -0.009277344, 0.0859375, 0.2890625, -0.05126953, 0.20996094, 0.080566406, 0.40820312, -0.095214844, 0.09814453, 0.03857422, 0.13476562, -0.0625, -0.06933594, -0.043945312, 0.03540039, 0.0007324219, 0.1015625, -0.12109375, 0.16308594, 0.044189453, 0.09472656, 0.21191406, 0.087890625, -0.34375, -0.119628906, 0.111816406, -0.080566406, 0.044921875, -0.05859375, -0.03515625, 0.12158203, 0.061035156, -0.10107422, 0.07763672, 0.0026855469, 0.019042969, -0.04296875, 0.118652344, 0.24121094, 0.13867188, -0.0036621094, -0.10449219, 0.03491211, -0.09082031, 0.09326172, 0.02758789, -0.0020751953, -0.17675781, 0.053710938, -0.095703125, -0.01550293, 0.17773438, 0.009521484, 0.10253906, -0.040527344, 0.021728516, 0.056152344, 0.0703125, -0.026977539, 0.22363281, -0.007537842, -0.14355469, -0.2734375, 0.05810547, 0.022460938, -0.044677734, -0.07373047, 0.03125, 0.11035156, -0.079589844, 0.012939453, -0.03125, 0.09667969, 0.044921875, -0.20117188, 0.09277344, 0.15527344, -0.075683594, 0.12695312, 0.2578125, -0.1640625, 0.047851562, 0.026123047, -0.020751953, 0.08984375, -0.0859375, 0.033691406, -0.1328125, -0.079589844, -0.028320312, 0.008239746, -0.031982422, -0.19140625, 0.056396484, 0.18847656, 0.24804688, -0.10546875, -0.15039062, 0.26367188, -0.12207031, 0.09667969, -0.091796875, -0.07128906, 0.047851562, 0.119140625, -0.08691406, 0.125, -0.042236328, -0.22851562, -0.09814453, -0.15820312, 0.004638672, -0.06738281, -0.01965332, 0.2890625, -0.013183594, -0.079589844, -0.08105469, 0.047851562, -0.043945312, -0.20898438, -0.0073242188, 0.087890625, -0.07910156, 0.05908203, -0.088378906, -0.08105469, 0.01940918, -0.096191406, 0.08886719, 0.021606445, -0.080078125, -0.020263672, -0.08203125, -0.099609375, -0.034179688, 0.11230469, 0.01977539, -0.044189453, -0.0073547363, -0.04296875, 0.0010986328, -0.16308594, 0.15429688, -0.12890625, -0.018432617, 0.32617188, -0.0154418945, -0.049804688, 0.059570312, 0.14257812, 0.00010681152, 0.38671875, 0.0026855469, -0.08496094, -0.095703125, 0.07470703, 0.14453125, -0.09423828, -0.12695312, 0.14746094, -0.013916016, 0.10253906, -0.13476562, 0.011474609, -0.0859375, 0.06542969, -0.05493164, -0.091796875, -0.059570312, 0.26171875, 0.203125, 0.04663086, -0.21191406, -0.025024414, 0.15136719, 0.11816406, 0.17871094, 0.17382812, 0.050048828, -0.18652344, 0.002319336, -0.045898438, -0.095703125, 0.048339844, -0.014282227, 0.24609375, -0.10986328, 0.046142578, 0.006134033, -0.23242188, 0.03466797, 0.017089844, 0.06933594, 0.037109375, -0.14160156, -0.07861328, 0.046875, -0.00048828125, 0.115722656, -0.072265625, 0.12060547, -0.020996094, -0.09277344, -0.033691406, -0.11279297, 0.030029297, -0.18261719, -0.05126953, 0.06542969, -0.025756836, 0.0703125, -0.0048828125, 0.10595703, 0.039794922, -0.19824219, -0.004272461, -0.115234375, -0.050048828, -0.0546875, -0.04711914, -0.037597656, -0.09277344, -0.0107421875, 0.044433594, -0.08300781, 0.33984375, -0.095703125, -0.068359375, -0.10253906, -0.28125, 0.0052490234, -0.0703125, 0.12988281, -0.38867188, -0.0625, 0.0049438477, 0.059326172, 0.03466797, -0.04711914, 0.087402344, 0.0052490234, -0.001953125, 0.13085938, 0.029785156, -0.22949219, -0.025756836, 0.09082031, 0.21972656, -0.1484375, -0.088378906, -0.018676758, -0.2265625, -0.001701355, -0.091308594, 0.14160156, -0.14941406, -0.25390625, 0.052734375, 0.096191406, 0.25976562, -0.029052734, 0.0859375, -0.037841797, 0.16113281, -0.03857422, -0.17089844, -0.052978516, 0.03149414, 0.032958984, -0.16601562, -0.14160156, 0.020629883, -0.30273438, 0.087890625, -0.08496094, -0.083984375, -0.12988281, -0.07128906, 0.012878418, 0.12060547, -0.107421875, -0.19042969, 0.14941406, 0.029785156, -0.015319824, 0.111328125, -0.001953125, 0.16503906, -0.045166016, -0.037841797, -0.15722656, 0.24804688, -0.044921875, -0.11376953, -0.014831543, 0.080078125, 0.056884766, -0.0024871826, -0.0146484375, -0.17578125, 0.0031738281, -0.05859375, -0.047851562, -0.19335938, 0.01977539, -0.107910156, 0.03540039, -0.075683594, -0.13183594, -0.06542969, 0.025146484, -0.06982422, 0.13085938, 0.041992188, 0.23828125, -0.016235352, -0.091796875, 0.0625, 0.021728516, -0.08886719, -0.026977539, 0.12060547, 0.04736328, 0.04736328, 0.0017089844, 0.16210938, 0.14453125, 0.0034179688, 0.078125, 0.12060547, 0.11035156, -0.38867188, 0.024169922, 0.37109375, -0.16015625, 0.14550781, 0.005493164, -0.037109375, -0.15917969, -0.22460938, -0.111816406, -0.13085938, -0.06542969, -0.23535156, -0.20507812, 0.06201172, -0.20996094, 0.09082031, -0.17089844, 0.059570312, -0.030029297, 0.026733398, 0.0625, -0.053710938, 0.17480469, -0.111328125, 0.06933594, -0.052734375, 0.0032043457, 0.022949219, 0.1640625, 0.15722656, 0.15332031, -0.03564453, 0.12695312, 0.25, 0.096191406, -0.07861328, 0.123046875, 0.0073242188, -0.020996094, -0.115234375, -0.049804688, 0.032470703, 0.140625, -0.049316406, -0.13378906, -0.029174805, 0.12695312, 0.17382812, 0.075683594, -0.100097656, -0.3125, -0.1015625, 0.09667969, -0.020385742, 0.21289062, 0.038330078, 0.025390625, -0.009155273, -0.06347656, -0.061035156, -0.09423828, 0.13085938, -0.15917969, -0.022216797, -0.24414062, -0.21972656, -0.075683594, 0.08935547, 0.12988281, -0.080566406, -0.012207031, 0.12207031, 0.020751953, 0.18652344, 0.21484375, -0.29296875, 0.037597656, 0.015197754, -0.05029297, -0.011230469, -0.111328125, 0.14941406, -0.12451172, -0.045654297, 0.015625, 0.23828125, 0.037109375, -0.03515625, 0.099609375, 0.203125, -0.1328125, -0.1015625, 0.22363281, 0.13183594, 0.022949219, -0.0068359375, -0.044433594, 0.044433594, -0.095214844, 0.017578125, 0.18359375, -0.064941406, -0.14453125, -0.119628906, 0.040283203, -0.11767578, 0.1328125, -0.099121094, -0.076660156, -0.32226562, 0.018554688, 0.001953125, 0.17871094, 0.056152344, 0.08251953, 0.060058594, -0.09082031, -0.006713867, -0.15332031, 0.06298828, -0.11035156, 0.018066406, -0.10253906, -0.15234375, 0.24707031, -0.095703125, -0.28515625, 0.11328125, -0.045898438, 0.09765625, 0.013793945, -0.265625, -0.09033203, 0.048828125, 0.051757812, -0.31445312, -0.10644531, -0.04345703, -0.017578125, -0.19042969, 0.026611328, 0.030761719, 0.27929688, -0.07519531, -0.15429688, -0.076171875, 0.119140625, 0.14257812, 0.068847656, 0.0390625, 0.068359375, -0.051513672, 0.037109375, -0.025146484, 0.022094727, 0.0546875, 0.09863281, 0.010375977, 0.25, -0.29296875, 0.076660156, -0.18066406, -0.19238281, 0.049804688, -0.0107421875, -0.25585938, 0.033691406, -0.10546875, 0.1875, -0.265625, -0.064453125, -0.008544922, 0.1484375, 0.075683594, -0.14257812, -0.034423828, -0.24511719, 0.056884766, -0.028564453, -0.25390625, 0.076660156, 0.008483887, -0.14355469, -0.09765625, 0.013549805, -0.026123047, 0.048339844, 0.23046875, -0.041015625, 0.18945312, -0.022094727, 0.10839844, 0.16992188, -0.1640625, -0.29882812, -0.19824219, 0.022338867, -0.025146484, 0.15625, 0.044433594, -0.048828125, 0.063964844, 0.06933594, -0.18261719, -0.0043945312, -0.125, 0.17675781, -0.10253906, -0.053466797, 0.064453125, 0.20703125, 0.049560547, 0.057128906, 0.01965332, 0.06591797, -0.05810547, -0.12207031, 0.15039062, 0.02355957, -0.025024414, -0.10839844, 0.15136719, 0.083984375, 0.00093078613, 0.092285156, -0.064453125, -0.0703125, -0.11669922, 0.103515625, -0.11376953, 0.111328125, -0.08203125, 0.028686523, -0.24511719, 0.12109375, -0.06982422, -0.013183594, -0.23828125, -0.020874023, 0.13769531, 0.07861328, 0.100097656, 0.018066406, 0.10888672, 0.1328125, 0.15527344, 0.078125, -0.25390625, -0.049316406, -0.048095703, 0.06689453, -0.18164062, -0.07763672, 0.091308594, 0.046142578, -0.13085938, -0.125, -0.001953125, -0.088378906, 0.05102539, -0.30859375, -0.03466797, -0.21289062, 0.125, 0.053710938, -0.008117676, -0.022583008, 0.072753906, -0.09277344, -0.010620117, 0.1875, -0.083984375, 0.0057373047, 0.033691406, 0.009521484, 0.13085938, -0.03466797, 0.036865234, -0.009521484, 0.234375, -0.037597656, -0.0023040771, 0.078125, -0.041015625, -0.16503906, 0.07080078, -0.033691406, 0.17773438, 0.068847656, 0.375, -0.30273438, -0.015625, 0.047607422, 0.33398438, -0.20214844, -0.16796875, 0.026367188, 0.012207031, -0.028930664, 0.09423828, 0.0546875, -0.04272461, -0.265625, 0.08935547, 0.032226562, -0.1171875, -0.12988281, -0.26171875, 0.13671875, 0.061035156, 0.0390625, 0.03125, -0.033447266, -0.029418945, -0.09082031, -0.15820312, -0.012939453, -0.08251953, 0.064941406, 0.020385742, 0.044921875, 0.03930664, -0.07861328, -0.099609375, -0.055419922, -0.034179688, -0.20214844, -0.075683594, -0.14550781, 0.0064086914, 0.088378906, -0.067871094, -0.15722656, -0.020996094, -0.068359375, -0.05517578, -0.016845703, 0.12890625, 0.21484375, 0.08251953, 0.09814453, 0.328125, -0.00039672852, 0.017089844, 0.071777344, -0.021606445, 0.0031738281, -0.04248047, -0.041992188, 0.05810547, -0.00061035156, 0.018920898, -0.045898438, 0.23535156, -0.15234375, -0.12792969, -0.05908203, -0.13574219, -0.2734375, 0.083984375, -0.06298828, -0.111816406, -0.15234375, -0.0546875, -0.0107421875, -0.07324219, 0.18945312, 0.140625, -0.06738281, 0.04638672, -0.017578125, -0.061523438, -0.16015625, -0.040039062, 0.0037841797, -0.125, -0.30078125, 0.022094727, -0.23828125, -0.15234375, -0.017944336, 0.03540039, 0.17089844, -0.042236328, 0.056152344, -0.095703125, -0.12792969, -0.07470703, 0.07421875, 0.04296875, -0.008056641, 0.05517578, -0.17675781, -0.011230469, -0.13964844, 0.041748047, -0.076171875, 0.03466797, 0.03930664, -0.084472656, -0.23339844, 0.08496094, -0.17089844, 0.020385742, 0.10253906, -0.03173828, -0.0859375, 0.025146484, -0.08203125, 0.06689453, -0.06689453, -0.22460938, 0.020629883, 0.328125, -0.14746094, 0.18847656, -0.056884766, -0.17480469, 0.06201172, -0.072265625, -0.16601562, -0.18847656, 0.1640625, -0.09863281, -0.005859375, 0.1328125, 0.0032958984, 0.012268066, -0.27148438, -0.12695312, 0.0859375, 0.026611328, 0.41015625, 0.13574219, 0.12988281, 0.15429688, 0.115722656, -0.053222656, -0.03930664, 0.19824219, -0.019897461, -0.17382812, 0.046875, 0.17382812, 0.103027344, -0.033935547, -0.14257812, -0.109375, 0.02368164, 0.12158203, -0.119628906, 0.099609375, 0.29296875, 0.13671875, 0.12890625, 0.028564453, -0.0041503906, 0.09277344, -0.18847656, -0.21582031, 0.04248047, -0.123046875, -0.008544922, 0.12597656, -0.043701172, 0.06347656, -0.033935547, -0.016113281, -0.0014038086, -0.092285156, 0.19726562, 0.022460938, -0.18652344, 0.03515625, 0.010192871, 0.09423828, 0.328125, 0.057128906, 0.104003906, 0.026855469, -0.10888672, 0.010620117, 0.1171875, 0.0546875, -0.037109375, -0.1484375, -0.083496094, 0.09082031, 0.055664062, 0.111328125, 0.018310547, -0.20898438, 0.15332031, -0.042236328, 0.10498047, -0.057128906, 0.036132812, 0.056152344, 0.12890625, -0.016357422, -0.021606445, -0.100097656, 0.048583984, -0.030517578, 0.12695312, 0.17285156, 0.09472656, 0.09667969, 0.0071411133, -0.0020599365, 0.10449219, 0.03149414, -0.018432617, -0.027832031, -0.10205078, 0.08203125, -0.1328125, -0.0126953125, 0.171875, -0.11816406, -0.03955078, 0.06347656, 0.029541016, 0.08496094, -0.30859375, -0.057373047, -0.016601562, 0.083984375, -0.15234375, 0.053222656, -0.17578125, 0.09863281, 0.034423828, 0.025024414, 0.072265625, -0.06933594, 0.055419922, -0.0034179688, 0.064453125, 0.0068359375, 0.24414062, -0.060058594, -0.25976562, -0.008300781, 0.017333984, 0.10205078, -0.041259766, 0.036376953, 0.04321289, -0.001159668, -0.024780273, -0.064453125, -0.29882812, 0.16113281, 0.031982422, -0.12109375, -0.31054688, 0.024414062, -0.028442383, 0.0546875, -0.27734375, -0.061523438, -0.0030822754, 0.038330078, -0.017944336, 0.0154418945, -0.09716797, 0.13378906, 0.014404297, -0.080566406, -0.1015625, -0.0087890625, 0.091308594, 0.02319336, -0.009460449, 0.10205078, 0.10449219, 0.010009766, -0.05029297, -0.041992188, -0.022460938, -0.1484375, 0.15234375, -0.030273438, 0.05834961, 0.025634766, -0.123046875, 0.0076904297, 0.048339844, 0.049804688, -0.18164062, -0.13769531, -0.20605469, -0.13183594, -0.036376953, 0.0024414062, 0.24023438, -0.10107422, 0.11767578, 0.28320312, 0.16015625, -0.13183594, -0.018554688, 0.16601562, 0.11279297, 0.064941406, 0.080078125, -0.19140625, -0.1328125, 0.08984375, -0.10449219, -0.20898438, -0.25390625, 0.11669922, 0.16015625, -0.048339844, -0.05078125, -0.21777344, -0.12695312, -0.19824219, -0.009521484, -0.052978516, -0.09423828, -0.011352539, -0.140625, 0.15136719, 0.048339844, -0.1328125, -0.09423828, -0.18457031, -0.13085938, -0.011230469, -0.016113281, 0.0026855469, -0.07128906, 0.1171875, 0.1015625, 0.08496094, 0.040771484, 0.103027344, 0.015136719, -0.16113281, 0.032226562, -0.08496094, -0.15429688, -0.05078125, -0.23730469, -0.12402344, -0.23046875, 0.032226562, -0.016601562, -0.051513672, -0.12109375, -0.12890625, 0.0041503906, -0.03881836, -0.122558594, 0.07519531, 0.12890625, 0.099121094, 0.037597656, 0.021362305, -0.05444336, -0.13476562, 0.16015625, 0.006439209, 0.060546875, 0.04272461, -0.063964844, 0.13476562, 0.1015625, 0.064453125, 0.083984375, -0.04736328, 0.0390625, -0.11376953, -0.024414062, -0.10449219, -0.019165039, -0.047607422, 0.08496094, -0.18457031, -0.048339844, -0.068847656, 0.075683594, -0.078125, -0.21875, 0.0126953125, -0.029785156, -0.122558594, 0.25195312, 0.024902344, -0.071777344, 0.1796875, -0.07519531, 0.27929688, 0.061035156, 0.091308594, -0.01574707, -0.022338867, -0.008178711, -0.13183594, -0.18945312, 0.1328125, 0.203125, 0.045654297, -0.041748047, -0.028564453, -0.06640625, -0.020874023, 0.055664062, -0.12695312, -0.026245117, 0.09765625, 0.20898438, -0.009643555, -0.0625, 0.075683594, -0.040527344, -0.045166016, 0.08154297, -0.19433594, 0.114746094, 0.0020751953, 0.11621094, 0.0020751953, 0.095214844, -0.031982422, 0.008300781, 0.15429688, 0.15039062, 0.032226562, 0.27734375, -0.17480469, -0.044677734, 0.22070312, -0.022094727, 0.044921875, -0.24707031, 0.15527344, 0.06591797, 0.09667969, 0.053710938, -0.045410156, 0.123046875, 0.018310547, -0.049804688, 0.100097656, 0.1640625, -0.18359375, -0.026611328, 0.12109375, -0.030395508, 0.010009766, 0.047607422, -0.009521484, -0.078125, 0.04272461, 0.06542969, -0.09716797, 0.02734375, -0.14746094, 0.15136719, 0.064453125, 0.11376953, -0.07910156, 0.10644531, 0.015625, -0.25195312, -0.08105469, 0.1640625, -0.12890625, -0.055664062, -0.20996094, -0.0625, -0.115234375, -0.15429688, 0.13671875, 0.008422852, -0.056640625, 0.11328125, 0.13183594, -0.14257812, 0.01977539, -0.12207031, 0.03881836, 0.05419922, -0.018310547, 0.048583984, -0.20605469, 0.060058594, 0.26171875, 0.14355469, -0.19921875, 0.088378906, -0.10986328, -0.14355469, -0.04345703, 0.11425781, -0.019165039, 0.04736328, -0.059570312, 0.08691406, -0.00048828125, -0.09765625, -0.15429688, 0.041503906, -0.20019531, 0.19140625, -0.060546875, 0.043945312, -0.018554688, 0.13574219, 0.14257812, -0.18457031, -0.006225586, -0.06347656, -0.079589844, 0.12988281, 0.11230469, 0.21289062, 0.111816406, 0.12597656, -0.01928711, 0.026123047, 0.22460938, -0.013793945, 0.06933594, -0.012268066, -0.103515625, -0.15039062, 0.13476562, -0.103515625, -0.06689453, -0.015197754, -0.036132812, -0.14355469, 0.10986328, 0.052490234, -0.049804688, -0.042236328, -0.109375, 0.049316406, -0.23046875, 0.18652344, -0.10205078, -0.053222656, 0.16894531, 0.078125, -0.09716797, -0.072753906, 0.092285156, -0.26171875, -0.1484375, 0.28125, 0.12060547, -0.125, 0.06738281, -0.16894531, -0.023071289, 0.05859375, 0.0087890625, -0.08496094, 0.06591797, -0.0390625, 0.034423828, 0.07470703, -0.03857422, 0.15234375, 0.10546875, -0.032714844, 0.03540039, 0.23828125, 0.03540039, -0.17578125, -0.036865234, -0.09277344, -0.00045776367, 0.013793945, 0.0040283203, -0.16015625, 0.19238281, -0.018798828, 0.16699219, -0.08251953, -0.059814453, -0.016113281, -0.19628906, 0.017822266, -0.08496094, -0.15429688, -0.09765625, -0.111816406, -0.13378906, 0.02722168, 0.01940918, -0.078125, -0.1171875, -0.10498047, 0.122558594, 0.265625, -0.008056641, -0.14941406, -0.01361084, -0.13085938, -0.12060547, -0.04736328, 0.234375, -0.21679688, -0.14550781, -0.16113281, 0.026611328, -0.3515625, 0.15820312, 0.0018920898, -0.119628906, 0.17773438, -0.011779785, 0.068359375, 0.24511719, -0.13867188, -0.115722656, -0.0034179688, 0.080078125, 0.009277344, 0.03540039, -0.24707031, -0.012329102, 0.020996094, 0.099609375, -0.036376953, -0.0073242188, -0.0075683594, 0.09765625, -0.12207031, -0.107910156, 0.03100586, 0.12988281, -0.071777344, 0.13476562, -0.03112793, -0.05126953, -0.0859375, -0.0021972656, 0.16015625, -0.072265625, -0.017822266, 0.25, 0.091796875, 0.17382812, 0.047851562, -0.008972168, 0.15136719, -0.036376953, 0.03466797, 0.087890625, 0.056884766, 0.021972656, -0.21289062, 0.064941406, -0.09277344, -0.06933594, -0.05810547, -0.00048828125, 0.1328125, -0.055419922, -0.17480469, 0.018554688, 0.11230469, -0.09033203, -0.16015625, 0.025146484, 0.063964844, 0.080078125, -0.14746094, 0.13476562, -0.12207031, -0.13671875, -0.029174805, -0.10205078, -0.041015625, -0.03930664, -0.036376953, 0.064941406, -0.06640625, 0.11035156, 0.16503906, 0.11425781, 0.115234375, -0.16113281, 0.0059814453, 0.14160156, -0.041015625, -0.109375, -0.06542969, 0.103027344, 0.012084961, 0.12109375, 0.12597656, -0.021484375, -0.06738281, 0.012634277, -0.12890625, 0.076660156, -0.033447266, -0.08935547, -0.17675781, -0.123046875, -0.06542969, -0.2890625, -0.1875, 0.040527344, 0.03173828, 0.01574707, -0.03881836, -0.25390625, 0.110839844, -0.03515625, 0.111816406, -0.14257812, 0.071777344, 0.12890625, 0.15136719, 0.115234375, -0.11328125, -0.09667969, 0.017333984, 0.19921875, 0.265625, -0.09277344, 0.04663086, 0.10546875, 0.14453125, -0.078125, 0.16601562, 0.015625, 0.15527344, 0.1328125, 0.14550781, -0.115234375, -0.13867188, 0.0054016113, 0.08496094, -0.3359375, 0.11035156, 0.18359375, 0.12695312, 0.123046875, 0.037109375, -0.0036621094, 0.13867188, 0.20703125, -0.01977539, -0.0021972656, -0.05517578, 0.079589844, 0.24707031, -0.15039062, 0.080078125, -0.08251953, -0.10888672, 0.14257812, 0.18066406, 0.110839844, 0.09326172, 0.2578125, 0.19921875, -0.110839844, -0.115722656, 0.24902344, 0.20214844, 0.008056641, -0.059570312, 0.048828125, 0.0625, -0.011291504, 0.048828125, 0.019165039, 0.12207031, 0.017944336, -0.17871094, -0.17089844, 0.21289062, -0.041015625, -0.04296875, -0.087890625, -0.0234375, -0.13476562, -0.05908203, -0.022705078, -0.07910156, 0.21875, -0.038085938, 0.0009765625, -0.059326172, -0.15136719, -0.006958008, 0.05810547, -0.038085938, -0.20117188, -0.05078125, -0.020996094, -0.034179688, -0.11425781, 0.056640625, 0.0013427734, 0.0072021484, -0.12890625, 0.109375, 0.06347656, 0.08886719, 0.19726562, -0.018310547, 0.09082031, 0.011474609, -0.087890625, 0.17382812, -0.096191406, 0.09472656, 0.09277344, -0.0703125, 0.057861328, 0.03564453, 0.004638672, -0.012878418, -0.030151367, 0.03149414, 0.18554688, 0.15332031, -0.12207031, -0.15429688, 0.0029296875, -0.030639648, -0.048339844, -0.032226562, -0.05859375, 0.0021972656, -0.021728516, 0.15429688, -0.16699219, -0.040527344, 0.15820312, -0.025390625, 0.052978516, -0.09863281, 0.12792969, -0.022216797, -0.020874023, -0.0068359375, 0.06689453, 0.203125, 0.21484375, -0.037109375, -0.020385742, -0.07861328, 0.08203125, -0.05078125, 0.048095703, -0.027832031, 0.10986328, 0.03955078, 0.03173828, 0.029663086, 0.16992188, -0.072265625, 0.19921875, -0.0154418945, 0.10107422, 0.14941406, -0.19824219, 0.010498047, -0.021118164, -0.140625, -0.12695312, 0.265625, -0.14160156, -0.13867188, 0.017333984, 0.17382812, -0.19238281, -0.036132812, -0.16601562, 0.12988281, -0.13476562, 0.10888672, -0.0021972656, 0.103027344, -0.114746094, -0.014709473, -0.30664062, -0.014770508, 0.068359375, -0.052490234, -0.0053100586, 0.140625, -0.23925781, -0.1796875, -0.076171875, 0.079589844, 0.15625, -0.20410156, -0.038330078, -0.028320312, 0.19921875, 0.00390625, 0.00064849854, 0.10449219, 0.19628906, 0.045410156, -0.31640625, 0.04248047, 0.09472656, 0.119140625, 0.10888672, -0.026611328, 0.03100586, -0.022705078, 0.10644531, 0.0006713867, -0.20117188, 0.2265625, -0.0107421875, 0.02355957, -0.07080078, -0.08105469, -0.05834961, -0.16210938, -0.040527344, 0.076171875, -0.049316406, 0.030273438, 0.006591797, -0.026367188, -0.10498047, -0.12402344, 0.064453125, 0.0703125, 0.122558594, -0.22265625, -0.03564453, 0.026367188, 0.076171875, 0.076660156, -0.09375, -0.20996094, 0.021484375, 0.092285156, -0.026733398, -0.22070312, -0.041015625, 0.15820312, 0.22460938, 0.12109375, 0.14160156, 0.050048828, 0.18847656, 0.14550781, 0.11621094, 0.12988281, -0.13867188, 0.05126953, 0.15234375, -0.2421875, 0.056396484, 0.13378906, 0.037597656, 0.096191406, 0.19335938, 0.06738281, 0.067871094, -0.24804688, -0.140625, 0.16015625, -0.014465332, 0.16796875, -0.28125, -0.0703125, 0.16796875, 0.1953125, 0.100097656, 0.052734375, 0.07080078, 0.049072266, -0.04711914, -0.10058594, 0.015075684, 0.13085938, -0.14550781, -0.08984375, -0.06591797, 0.13183594, -0.18945312, -0.08154297, 0.08886719, -0.096191406, -0.19726562, -0.013061523, 0.14941406, -0.140625, 0.03149414, 0.06225586, -0.013549805, -0.057861328, -0.06640625, 0.076660156, 0.16503906, 0.13476562, -0.03466797, 0.1953125, -0.0005569458, 0.036132812, 0.115234375, 0.15136719, 0.04345703, 0.111816406, -0.1328125, 0.15136719, 0.14941406, 0.0126953125, 0.011474609, -0.08300781, -0.033203125, 0.09667969, 0.083984375, 0.12792969, -0.045898438, -0.115234375, -0.02709961, 0.015014648, 0.16308594, -0.05078125, 0.103027344, -0.01586914, 0.07519531, -0.056640625, 0.2578125, 0.028564453, -0.15429688, 0.036376953, -0.19140625, -0.18945312, 0.041748047, 0.0859375, -0.013793945, -0.13085938, 0.008178711, 0.125, -0.111328125, -0.027709961, -0.04296875, -0.15136719, 0.060302734, 0.109375, 0.035888672, -0.22363281, -0.052246094, -0.03491211, -0.016723633, 0.12109375, 0.1796875, 0.09472656, -0.040771484, 0.010864258, -0.0040283203, -0.11425781, 0.051513672, 0.07421875, -0.060302734, 0.0099487305, -0.064453125, 0.14453125, -0.15722656, 0.0020751953, -0.1328125, -0.107421875, 0.079589844, 0.012451172, 0.0029754639, 0.08203125, 0.00090026855, 0.072265625, 0.027832031, 0.033691406, 0.028686523, -0.020019531, 0.044677734, 0.06347656, 0.0546875, 0.04736328, 0.10644531, 0.23144531, -0.106933594, -0.008422852, 0.015625, 0.13183594, 0.1640625, -0.0032348633, 0.20800781, 0.072265625, 0.0029296875, 0.118652344, 0.072265625, 0.07324219, -0.14746094, -0.024536133, -0.13378906, -0.011352539, -0.28710938, 0.103515625, 0.018554688, 0.37304688, -0.06347656, 0.06982422, -0.17089844, -0.20703125, -0.063964844, -0.060546875, -0.07714844, -0.16015625, 0.03100586, 0.020141602, -0.14355469, -0.099121094, -0.017333984, 0.17089844, 0.05053711, 0.12695312, -0.12792969, 0.08203125, 0.091308594, -0.16699219, 0.03955078, 0.022460938, 0.075683594, -0.045898438, -0.015075684, 0.029296875, 0.059570312, -0.09375, 0.12207031, 0.33203125, 0.091796875, -0.13183594, -0.35742188, -0.12597656, 0.044433594, -0.06542969, -0.21386719, -0.296875, -0.040771484, 0.06689453, -0.027709961, 0.017333984, -0.024414062, 0.19726562, -0.07910156, -0.021484375, 0.08691406, -0.0056152344, 0.40234375, 0.018188477, -0.0026245117, 0.13574219, 0.18945312, 0.032714844, 0.06347656, -0.053710938, -0.171875, -0.099609375, -0.12792969, -0.025390625, 0.009399414, 0.00048828125, -0.10449219, 0.043701172, -0.013427734, 0.08544922, -0.21777344, 0.18359375, 0.17382812, -0.05078125, 0.07470703, 0.2265625, -0.030761719, -0.16601562, 0.20117188, -0.13769531, 0.14550781, -0.020996094, -0.026245117, -0.017578125, 0.125, -0.07128906, -0.095703125, -0.051757812, -0.068847656, 0.060058594, 0.07861328, 0.059814453, -0.05102539, -0.007446289, -0.19042969, 0.020507812, 0.016113281, -0.15039062, -0.38476562, 0.103515625, 0.00030517578, -0.1484375, -0.09326172, -0.031982422, -0.025634766, 0.05419922, -0.111816406, 0.060546875, 0.087402344, 0.16503906, 0.0703125, -0.032958984, 0.19628906, 0.11816406, 0.045654297, 0.0008544922, -0.095214844, 0.13769531, -0.03173828, -0.009643555, 0.041015625, 0.1171875, 0.064453125, 0.03881836, 0.07910156, -0.09863281, -0.013183594, -0.023071289, -0.234375, -0.1015625, -0.015625, 0.15234375, 0.10546875, -0.088378906, -0.044433594, 0.060302734, 0.032958984, -0.1328125, -0.07080078, 0.15234375, -0.1640625, 0.079589844, 0.12597656, 0.1171875, 0.61328125, 0.015625, 0.05810547, 0.083496094, -0.025878906, -0.10498047, -0.18652344, -0.044189453, -0.024536133, 0.18359375, -0.06225586, 0.02758789, 0.012207031, -0.075683594, 0.0625, 0.03857422, 0.109375, 0.0076904297, 0.056396484, 0.004211426, -0.09472656, 0.064941406, 0.07714844, 0.1328125, -0.05517578, 0.029174805, -0.080566406, 0.109375, -0.061279297, 0.08496094, 0.07470703, -0.079589844, -0.15527344, -0.099609375, 0.053466797, 0.123046875, 0.0058288574, -0.21289062, -0.004760742, -0.095703125, 0.024902344, -0.07080078, -0.17578125, 0.015563965, -0.00091552734, -0.118652344, -0.051757812, 0.07519531, 0.04296875, 0.103027344, -0.03149414, -0.049804688, -0.033691406, -0.03466797, 0.11230469, 0.05029297, -0.0546875, 0.15332031, 0.10839844, 0.07910156, 0.15234375, -0.03491211, -0.12597656, 0.171875, -0.18554688, -0.06201172, 0.21875, 0.034179688, -0.053710938, -0.12792969, -0.20019531, 0.025024414, 0.106933594, -0.052490234, -0.19042969, -0.11279297, 0.06933594, -0.13574219, 0.02709961, -0.10498047, 0.13671875, -0.03564453, -0.003540039, 0.076171875, 0.12207031, 0.028442383, -0.16210938, -0.016113281, 0.13476562, -0.20703125, -0.08984375, 0.19433594, -0.013793945, -0.28515625, -0.068847656, -0.19042969, -0.03149414, 0.040527344, -0.048339844, -0.04736328, 0.03491211, 0.012329102, -0.016845703, -0.125, 0.04736328, -0.014160156, -0.06591797, 0.061035156, -0.03491211, 0.13183594, 0.06347656, -0.3125, -0.1484375, 0.027709961, -0.07128906, -0.08251953, -0.07763672, -0.09423828, 0.08886719, -0.051757812, 0.072265625, -0.122558594, -0.036132812, -0.029052734, 0.29492188, 0.20703125, -0.09863281, -0.11621094, 0.052734375, -0.053222656, 0.064941406, 0.029052734, 0.26757812, -0.053222656, -0.20214844, 0.016235352, 0.34179688, 0.076660156, -0.11425781, -0.11328125, -0.07519531, -0.051757812, -0.02331543, -0.03125, 0.19921875, -0.13476562, 0.10888672, 0.14355469, -0.004638672, 0.18164062, -0.06640625, -0.1640625, -0.08105469, -0.05053711, -0.0703125, -0.22167969, -0.15917969, 0.032470703, 0.18359375, -0.3046875, -0.08251953, 0.106933594, 0.10888672, 0.04345703, -0.045410156, 0.31445312, 0.021972656, 0.11328125, 0.106933594, 0.12890625, -0.17578125, 0.024169922, -0.15625, -0.18457031, 0.025634766, -0.18945312, 0.296875, 0.055419922, 0.08105469, 0.08154297, -0.375, -0.08691406, 0.016845703, -0.083496094, -0.043945312, 0.032714844, 0.21777344, -0.055419922, -0.064453125, 0.14453125, -0.23339844, -0.08496094, -0.0016174316, 0.006011963, 0.045166016, 0.17871094, -0.12109375, 0.10546875, -0.16796875, 0.3125, -0.12011719, 0.15820312, -0.09667969, -0.080566406, 0.18847656, 0.115234375, 0.26367188, -0.13867188, -0.19042969, -0.025390625, 0.07421875, 0.07763672, 0.26171875, -0.25, -0.032958984, 0.08300781, 0.04345703, -0.026855469, 0.109375, -0.09277344, 0.23242188, 0.092285156, -0.14257812, 0.01953125, 0.012451172, 0.14648438, 0.1484375, 0.2421875, 0.10498047, -0.1015625, -0.16210938, 0.25195312, 0.13476562, -0.09033203, -0.15429688, 0.0146484375, 0.009277344, -0.063964844, 0.0068359375, -0.17285156, 0.26367188, 0.115234375, -0.02709961, -0.09277344, -0.19824219, -0.02331543, -0.08300781, -0.0859375, -0.22949219, 0.10205078, 0.0012207031, 0.22265625, 0.19921875, 0.037597656, -0.024047852, 0.040771484, -0.025390625, 0.06542969, 0.0146484375, -0.15136719, 0.060546875, 0.01940918, -0.076660156, -0.044433594, -0.053222656, 0.09667969, -0.0625, -0.03930664, 0.122558594, 0.05126953, -0.041015625, -0.036621094, -0.020507812, -0.11328125, 0.14550781, -0.06542969, 0.26953125, 0.041015625, -0.005432129, -0.10644531, 0.078125, 0.03881836, 0.07080078, -0.05517578, -0.08691406, -0.051757812, 0.045410156, -0.10205078, -0.3046875, -0.111328125, -0.08886719, 0.18554688, -0.015625, 0.033203125, -0.023803711, -0.11230469, 0.06347656, -0.05419922, 0.11230469, 0.17773438, -0.099609375, -0.059570312, -0.03491211, 0.034179688, -0.13867188, -0.032226562, -0.19921875, -0.10546875, 0.16308594, -0.014221191, 0.07324219, -0.026855469, 0.068359375, 0.099609375, 0.012573242, -0.072753906, -0.10449219, 0.096191406, 0.024047852, 0.068847656, -0.11035156, -0.015136719, 0.07324219, -0.123046875, 0.05883789, -0.111816406, -0.18164062, -0.11669922, 0.11767578, 0.1015625, -0.095703125, -0.11328125, 0.1328125, -0.28515625, 0.06347656, 0.10449219, -0.04711914, -0.0019836426, 0.0057373047, 0.004638672, 0.064941406, -0.07910156, 0.14160156, 0.028930664, -0.15722656, -0.07421875, 0.052246094, -0.08935547, -0.07861328, 0.14160156, -0.061767578, -0.11816406, 0.114746094, -0.20117188, -0.0072021484, -0.02319336, -0.18847656, -0.16894531, -0.21386719, 0.07128906, 0.19042969, 0.0390625, 0.04638672, 0.16992188, -0.07763672, -0.037109375, 0.028564453, 0.07861328, -0.049072266, -0.09033203, -0.21875, -0.08496094, 0.095703125, 0.10205078, 0.009155273, 0.23632812, -0.21679688, 0.016113281, -0.2578125, -0.26757812, -0.017089844, -0.18457031, 0.045654297, -0.103027344, -0.071777344, 0.10546875, 0.050048828, -0.06640625, 0.11816406, -0.15820312, 0.020874023, -0.043701172, 0.265625, 0.22753906, -0.05126953, -0.25976562, -0.24804688, 0.0859375, -0.16992188, 0.011962891, -0.15136719, 0.16796875, -0.0546875, -0.0007324219, -0.028198242, 0.13769531, -0.17480469, -0.10986328, -0.05908203, -0.16113281, 0.07324219, -0.23632812, -0.1875, -0.10449219, 0.10595703, -0.35351562, -0.123535156, -0.09375, -0.027832031, -0.041259766, -0.025146484, -0.13671875, 0.029541016, -0.19824219, 0.06689453, -0.12792969, -0.26953125, 0.02319336, -0.004333496, -0.18066406, -0.076660156, 0.28320312, 0.171875, 0.21386719, -0.140625, 0.09667969, 0.10595703, -0.0029296875, 0.08105469, -0.024536133, -0.045166016, -0.049804688, -0.016479492, 0.16210938, 0.17089844, -0.05834961, 0.19628906, 0.09814453, 0.015075684, 0.00793457, -0.18945312, -0.080078125, -0.044677734, 0.25976562, 0.10498047, 0.11035156, -0.14453125, 0.12451172, 0.12695312, 0.004638672, -0.19140625, 0.22558594, -0.21972656, 0.028686523, 0.05908203, -0.033691406, 0.24804688, -0.1640625, -0.1015625, 0.010253906, 0.02709961, 0.07324219, 0.18652344, -0.048095703, -0.055664062, 0.006591797, -0.04321289, 0.15625, 0.13964844, -0.11230469, -0.15136719, 0.04638672, -0.07421875, 0.140625, 0.045410156, 0.08154297, -0.16015625, -0.14746094, -0.068847656, -0.04736328, 0.08203125, -0.053710938, -0.17675781, 0.15039062, 0.118652344, 0.20898438, 0.27148438, -0.21484375, -0.16113281, -0.01928711, -0.13085938, -0.072265625, 0.11230469, -0.099121094, 0.16503906, 0.04736328, -0.19726562, -0.14453125, -0.03540039, -0.16601562, 0.040283203, 0.0859375, -0.27148438, -0.048583984, 0.15429688, 0.16601562, 0.04272461, -0.051757812, -0.22460938, 0.03564453, -0.09765625, 0.20507812, 0.15820312, 0.05517578, 0.15917969, 0.095703125, 0.0018005371, 0.08300781, -0.2578125, -0.103515625, -0.03173828, -0.21191406, -0.024414062, -0.21289062, -0.0056762695, -0.052734375, 0.15429688, -0.12207031, 0.025024414, 0.041992188, -0.16015625, -0.13085938, 0.09814453, -0.08691406, 0.1796875, 0.04711914, -0.3046875, -0.10058594, 0.036376953, -0.30859375, 0.048339844, -0.119140625, -0.22753906, 0.2890625, -0.008422852, 0.10107422, 0.0021972656, -0.04711914, 0.20898438, 0.103515625, 0.11328125, -0.072265625, 0.052246094, 0.00390625, -0.23339844, -0.022094727, 0.047851562, -0.09375, -0.09472656, 0.006225586, -0.06982422, 0.11376953, -0.19433594, 0.12207031, 0.010131836, 0.028564453, -0.043945312, -0.061523438, 0.20898438, 0.13476562, 0.18164062, 0.115722656, -0.10449219, -0.25195312, 0.052734375, -0.1875, -0.083984375, -0.025390625, 0.0234375, 0.052246094, -0.2578125, 0.06347656, -0.13476562, -0.0546875, 0.0041503906, -0.041992188, 0.16699219, 0.17382812, -0.040039062, 0.09082031, -0.18457031, 0.09277344, 0.18164062, -0.040771484, 0.14355469, 0.078125, 0.059570312, -0.0051879883, -0.106933594, -0.029296875, -0.017089844, -0.12890625, -0.22070312, -0.140625, 0.052246094, -0.091796875, -0.02722168, -0.107421875, -0.19042969, -0.11035156, -0.022460938, -0.12695312, 0.06591797, -0.115722656, 0.018676758, -0.080566406, 0.026977539, -0.12597656, -0.076171875, -0.088378906, -0.06689453, 0.21972656, -0.111328125, -0.099121094, -0.09033203, -0.12597656, 0.088378906, 0.09814453, 0.005493164, 0.010498047, -0.083984375, 0.0026855469, -0.10107422, -0.16015625, -0.12158203, 0.024414062, 0.15429688, -0.107421875, 0.1875, -0.107910156, -0.15429688, -0.041992188, 0.048583984, -0.024414062, 0.04736328, -0.084472656, -0.103515625, -0.21289062, -0.24804688, 0.0076904297, 0.01550293, 0.014221191, -0.087890625, 0.07519531, -0.13476562, -0.027709961, -0.16992188, 0.1875, -0.09033203, 0.2578125, 0.007446289, 0.083984375, -0.049560547, -0.06347656, -0.083496094, -0.10546875, 0.30078125, 0.033935547, -0.012512207, -0.021484375, 0.11035156, 0.056152344, -0.008911133, 0.22265625, -0.099121094, -0.0033721924, 0.008483887, 0.18164062, -0.041748047, -0.035888672, 0.046875, -0.110839844, -0.13378906, -0.029052734, -0.068847656, -0.05419922, 0.049316406, -0.07421875, 0.0067749023, 0.11230469, 0.13964844, -0.10839844, -0.12792969, -0.05810547, 0.20703125, 0.12695312, -0.06542969, -0.05859375, -0.0546875, -0.084472656, 0.010253906, 0.038085938, 0.08251953, -0.053466797, 0.13574219, 0.06347656, -0.140625, 0.11376953, -0.20410156, 0.19238281, -0.10644531]\n"
     ]
    }
   ],
   "source": [
    "# Assuming you have calculated 'new_text_embedding' using your get_embedding function\n",
    "print(\"new_text_embedding:\", new_text_embedding)\n"
   ]
  },
  {
   "cell_type": "markdown",
   "id": "efdb02b8-9fd7-4837-8c05-4865b60e696a",
   "metadata": {},
   "source": [
    "## Perform Inference\n",
    "\n",
    "Use the loaded model to make predictions on the new data. You can use the predict method of your classifier."
   ]
  },
  {
   "cell_type": "code",
   "execution_count": 25,
   "id": "fd5ef3d4-63d5-4c8c-9a98-f2289443f26e",
   "metadata": {
    "tags": []
   },
   "outputs": [
    {
     "name": "stdout",
     "output_type": "stream",
     "text": [
      "Predicted Label: compliance\n"
     ]
    }
   ],
   "source": [
    "# Predict the label for the new data\n",
    "predicted_label = clf.predict([new_text_embedding])\n",
    "\n",
    "# Print the predicted label\n",
    "print(\"Predicted Label:\", predicted_label[0])\n"
   ]
  },
  {
   "cell_type": "code",
   "execution_count": 26,
   "id": "88838af6-b315-4098-a230-7b0cc55485ae",
   "metadata": {
    "tags": []
   },
   "outputs": [
    {
     "name": "stdout",
     "output_type": "stream",
     "text": [
      "Predicted Label: compliance\n",
      "Probability Estimates: [0.75 0.25]\n"
     ]
    }
   ],
   "source": [
    "# Predict the label and obtain probability estimates\n",
    "probability_estimates = clf.predict_proba([new_text_embedding])\n",
    "predicted_label = clf.predict([new_text_embedding])\n",
    "\n",
    "# Print the predicted label and probability estimates\n",
    "print(\"Predicted Label:\", predicted_label[0])\n",
    "print(\"Probability Estimates:\", probability_estimates[0])\n"
   ]
  },
  {
   "cell_type": "code",
   "execution_count": null,
   "id": "d37f96ad-a287-4796-853c-6db0b52f6390",
   "metadata": {},
   "outputs": [],
   "source": []
  }
 ],
 "metadata": {
  "availableInstances": [
   {
    "_defaultOrder": 0,
    "_isFastLaunch": true,
    "category": "General purpose",
    "gpuNum": 0,
    "hideHardwareSpecs": false,
    "memoryGiB": 4,
    "name": "ml.t3.medium",
    "vcpuNum": 2
   },
   {
    "_defaultOrder": 1,
    "_isFastLaunch": false,
    "category": "General purpose",
    "gpuNum": 0,
    "hideHardwareSpecs": false,
    "memoryGiB": 8,
    "name": "ml.t3.large",
    "vcpuNum": 2
   },
   {
    "_defaultOrder": 2,
    "_isFastLaunch": false,
    "category": "General purpose",
    "gpuNum": 0,
    "hideHardwareSpecs": false,
    "memoryGiB": 16,
    "name": "ml.t3.xlarge",
    "vcpuNum": 4
   },
   {
    "_defaultOrder": 3,
    "_isFastLaunch": false,
    "category": "General purpose",
    "gpuNum": 0,
    "hideHardwareSpecs": false,
    "memoryGiB": 32,
    "name": "ml.t3.2xlarge",
    "vcpuNum": 8
   },
   {
    "_defaultOrder": 4,
    "_isFastLaunch": true,
    "category": "General purpose",
    "gpuNum": 0,
    "hideHardwareSpecs": false,
    "memoryGiB": 8,
    "name": "ml.m5.large",
    "vcpuNum": 2
   },
   {
    "_defaultOrder": 5,
    "_isFastLaunch": false,
    "category": "General purpose",
    "gpuNum": 0,
    "hideHardwareSpecs": false,
    "memoryGiB": 16,
    "name": "ml.m5.xlarge",
    "vcpuNum": 4
   },
   {
    "_defaultOrder": 6,
    "_isFastLaunch": false,
    "category": "General purpose",
    "gpuNum": 0,
    "hideHardwareSpecs": false,
    "memoryGiB": 32,
    "name": "ml.m5.2xlarge",
    "vcpuNum": 8
   },
   {
    "_defaultOrder": 7,
    "_isFastLaunch": false,
    "category": "General purpose",
    "gpuNum": 0,
    "hideHardwareSpecs": false,
    "memoryGiB": 64,
    "name": "ml.m5.4xlarge",
    "vcpuNum": 16
   },
   {
    "_defaultOrder": 8,
    "_isFastLaunch": false,
    "category": "General purpose",
    "gpuNum": 0,
    "hideHardwareSpecs": false,
    "memoryGiB": 128,
    "name": "ml.m5.8xlarge",
    "vcpuNum": 32
   },
   {
    "_defaultOrder": 9,
    "_isFastLaunch": false,
    "category": "General purpose",
    "gpuNum": 0,
    "hideHardwareSpecs": false,
    "memoryGiB": 192,
    "name": "ml.m5.12xlarge",
    "vcpuNum": 48
   },
   {
    "_defaultOrder": 10,
    "_isFastLaunch": false,
    "category": "General purpose",
    "gpuNum": 0,
    "hideHardwareSpecs": false,
    "memoryGiB": 256,
    "name": "ml.m5.16xlarge",
    "vcpuNum": 64
   },
   {
    "_defaultOrder": 11,
    "_isFastLaunch": false,
    "category": "General purpose",
    "gpuNum": 0,
    "hideHardwareSpecs": false,
    "memoryGiB": 384,
    "name": "ml.m5.24xlarge",
    "vcpuNum": 96
   },
   {
    "_defaultOrder": 12,
    "_isFastLaunch": false,
    "category": "General purpose",
    "gpuNum": 0,
    "hideHardwareSpecs": false,
    "memoryGiB": 8,
    "name": "ml.m5d.large",
    "vcpuNum": 2
   },
   {
    "_defaultOrder": 13,
    "_isFastLaunch": false,
    "category": "General purpose",
    "gpuNum": 0,
    "hideHardwareSpecs": false,
    "memoryGiB": 16,
    "name": "ml.m5d.xlarge",
    "vcpuNum": 4
   },
   {
    "_defaultOrder": 14,
    "_isFastLaunch": false,
    "category": "General purpose",
    "gpuNum": 0,
    "hideHardwareSpecs": false,
    "memoryGiB": 32,
    "name": "ml.m5d.2xlarge",
    "vcpuNum": 8
   },
   {
    "_defaultOrder": 15,
    "_isFastLaunch": false,
    "category": "General purpose",
    "gpuNum": 0,
    "hideHardwareSpecs": false,
    "memoryGiB": 64,
    "name": "ml.m5d.4xlarge",
    "vcpuNum": 16
   },
   {
    "_defaultOrder": 16,
    "_isFastLaunch": false,
    "category": "General purpose",
    "gpuNum": 0,
    "hideHardwareSpecs": false,
    "memoryGiB": 128,
    "name": "ml.m5d.8xlarge",
    "vcpuNum": 32
   },
   {
    "_defaultOrder": 17,
    "_isFastLaunch": false,
    "category": "General purpose",
    "gpuNum": 0,
    "hideHardwareSpecs": false,
    "memoryGiB": 192,
    "name": "ml.m5d.12xlarge",
    "vcpuNum": 48
   },
   {
    "_defaultOrder": 18,
    "_isFastLaunch": false,
    "category": "General purpose",
    "gpuNum": 0,
    "hideHardwareSpecs": false,
    "memoryGiB": 256,
    "name": "ml.m5d.16xlarge",
    "vcpuNum": 64
   },
   {
    "_defaultOrder": 19,
    "_isFastLaunch": false,
    "category": "General purpose",
    "gpuNum": 0,
    "hideHardwareSpecs": false,
    "memoryGiB": 384,
    "name": "ml.m5d.24xlarge",
    "vcpuNum": 96
   },
   {
    "_defaultOrder": 20,
    "_isFastLaunch": false,
    "category": "General purpose",
    "gpuNum": 0,
    "hideHardwareSpecs": true,
    "memoryGiB": 0,
    "name": "ml.geospatial.interactive",
    "supportedImageNames": [
     "sagemaker-geospatial-v1-0"
    ],
    "vcpuNum": 0
   },
   {
    "_defaultOrder": 21,
    "_isFastLaunch": true,
    "category": "Compute optimized",
    "gpuNum": 0,
    "hideHardwareSpecs": false,
    "memoryGiB": 4,
    "name": "ml.c5.large",
    "vcpuNum": 2
   },
   {
    "_defaultOrder": 22,
    "_isFastLaunch": false,
    "category": "Compute optimized",
    "gpuNum": 0,
    "hideHardwareSpecs": false,
    "memoryGiB": 8,
    "name": "ml.c5.xlarge",
    "vcpuNum": 4
   },
   {
    "_defaultOrder": 23,
    "_isFastLaunch": false,
    "category": "Compute optimized",
    "gpuNum": 0,
    "hideHardwareSpecs": false,
    "memoryGiB": 16,
    "name": "ml.c5.2xlarge",
    "vcpuNum": 8
   },
   {
    "_defaultOrder": 24,
    "_isFastLaunch": false,
    "category": "Compute optimized",
    "gpuNum": 0,
    "hideHardwareSpecs": false,
    "memoryGiB": 32,
    "name": "ml.c5.4xlarge",
    "vcpuNum": 16
   },
   {
    "_defaultOrder": 25,
    "_isFastLaunch": false,
    "category": "Compute optimized",
    "gpuNum": 0,
    "hideHardwareSpecs": false,
    "memoryGiB": 72,
    "name": "ml.c5.9xlarge",
    "vcpuNum": 36
   },
   {
    "_defaultOrder": 26,
    "_isFastLaunch": false,
    "category": "Compute optimized",
    "gpuNum": 0,
    "hideHardwareSpecs": false,
    "memoryGiB": 96,
    "name": "ml.c5.12xlarge",
    "vcpuNum": 48
   },
   {
    "_defaultOrder": 27,
    "_isFastLaunch": false,
    "category": "Compute optimized",
    "gpuNum": 0,
    "hideHardwareSpecs": false,
    "memoryGiB": 144,
    "name": "ml.c5.18xlarge",
    "vcpuNum": 72
   },
   {
    "_defaultOrder": 28,
    "_isFastLaunch": false,
    "category": "Compute optimized",
    "gpuNum": 0,
    "hideHardwareSpecs": false,
    "memoryGiB": 192,
    "name": "ml.c5.24xlarge",
    "vcpuNum": 96
   },
   {
    "_defaultOrder": 29,
    "_isFastLaunch": true,
    "category": "Accelerated computing",
    "gpuNum": 1,
    "hideHardwareSpecs": false,
    "memoryGiB": 16,
    "name": "ml.g4dn.xlarge",
    "vcpuNum": 4
   },
   {
    "_defaultOrder": 30,
    "_isFastLaunch": false,
    "category": "Accelerated computing",
    "gpuNum": 1,
    "hideHardwareSpecs": false,
    "memoryGiB": 32,
    "name": "ml.g4dn.2xlarge",
    "vcpuNum": 8
   },
   {
    "_defaultOrder": 31,
    "_isFastLaunch": false,
    "category": "Accelerated computing",
    "gpuNum": 1,
    "hideHardwareSpecs": false,
    "memoryGiB": 64,
    "name": "ml.g4dn.4xlarge",
    "vcpuNum": 16
   },
   {
    "_defaultOrder": 32,
    "_isFastLaunch": false,
    "category": "Accelerated computing",
    "gpuNum": 1,
    "hideHardwareSpecs": false,
    "memoryGiB": 128,
    "name": "ml.g4dn.8xlarge",
    "vcpuNum": 32
   },
   {
    "_defaultOrder": 33,
    "_isFastLaunch": false,
    "category": "Accelerated computing",
    "gpuNum": 4,
    "hideHardwareSpecs": false,
    "memoryGiB": 192,
    "name": "ml.g4dn.12xlarge",
    "vcpuNum": 48
   },
   {
    "_defaultOrder": 34,
    "_isFastLaunch": false,
    "category": "Accelerated computing",
    "gpuNum": 1,
    "hideHardwareSpecs": false,
    "memoryGiB": 256,
    "name": "ml.g4dn.16xlarge",
    "vcpuNum": 64
   },
   {
    "_defaultOrder": 35,
    "_isFastLaunch": false,
    "category": "Accelerated computing",
    "gpuNum": 1,
    "hideHardwareSpecs": false,
    "memoryGiB": 61,
    "name": "ml.p3.2xlarge",
    "vcpuNum": 8
   },
   {
    "_defaultOrder": 36,
    "_isFastLaunch": false,
    "category": "Accelerated computing",
    "gpuNum": 4,
    "hideHardwareSpecs": false,
    "memoryGiB": 244,
    "name": "ml.p3.8xlarge",
    "vcpuNum": 32
   },
   {
    "_defaultOrder": 37,
    "_isFastLaunch": false,
    "category": "Accelerated computing",
    "gpuNum": 8,
    "hideHardwareSpecs": false,
    "memoryGiB": 488,
    "name": "ml.p3.16xlarge",
    "vcpuNum": 64
   },
   {
    "_defaultOrder": 38,
    "_isFastLaunch": false,
    "category": "Accelerated computing",
    "gpuNum": 8,
    "hideHardwareSpecs": false,
    "memoryGiB": 768,
    "name": "ml.p3dn.24xlarge",
    "vcpuNum": 96
   },
   {
    "_defaultOrder": 39,
    "_isFastLaunch": false,
    "category": "Memory Optimized",
    "gpuNum": 0,
    "hideHardwareSpecs": false,
    "memoryGiB": 16,
    "name": "ml.r5.large",
    "vcpuNum": 2
   },
   {
    "_defaultOrder": 40,
    "_isFastLaunch": false,
    "category": "Memory Optimized",
    "gpuNum": 0,
    "hideHardwareSpecs": false,
    "memoryGiB": 32,
    "name": "ml.r5.xlarge",
    "vcpuNum": 4
   },
   {
    "_defaultOrder": 41,
    "_isFastLaunch": false,
    "category": "Memory Optimized",
    "gpuNum": 0,
    "hideHardwareSpecs": false,
    "memoryGiB": 64,
    "name": "ml.r5.2xlarge",
    "vcpuNum": 8
   },
   {
    "_defaultOrder": 42,
    "_isFastLaunch": false,
    "category": "Memory Optimized",
    "gpuNum": 0,
    "hideHardwareSpecs": false,
    "memoryGiB": 128,
    "name": "ml.r5.4xlarge",
    "vcpuNum": 16
   },
   {
    "_defaultOrder": 43,
    "_isFastLaunch": false,
    "category": "Memory Optimized",
    "gpuNum": 0,
    "hideHardwareSpecs": false,
    "memoryGiB": 256,
    "name": "ml.r5.8xlarge",
    "vcpuNum": 32
   },
   {
    "_defaultOrder": 44,
    "_isFastLaunch": false,
    "category": "Memory Optimized",
    "gpuNum": 0,
    "hideHardwareSpecs": false,
    "memoryGiB": 384,
    "name": "ml.r5.12xlarge",
    "vcpuNum": 48
   },
   {
    "_defaultOrder": 45,
    "_isFastLaunch": false,
    "category": "Memory Optimized",
    "gpuNum": 0,
    "hideHardwareSpecs": false,
    "memoryGiB": 512,
    "name": "ml.r5.16xlarge",
    "vcpuNum": 64
   },
   {
    "_defaultOrder": 46,
    "_isFastLaunch": false,
    "category": "Memory Optimized",
    "gpuNum": 0,
    "hideHardwareSpecs": false,
    "memoryGiB": 768,
    "name": "ml.r5.24xlarge",
    "vcpuNum": 96
   },
   {
    "_defaultOrder": 47,
    "_isFastLaunch": false,
    "category": "Accelerated computing",
    "gpuNum": 1,
    "hideHardwareSpecs": false,
    "memoryGiB": 16,
    "name": "ml.g5.xlarge",
    "vcpuNum": 4
   },
   {
    "_defaultOrder": 48,
    "_isFastLaunch": false,
    "category": "Accelerated computing",
    "gpuNum": 1,
    "hideHardwareSpecs": false,
    "memoryGiB": 32,
    "name": "ml.g5.2xlarge",
    "vcpuNum": 8
   },
   {
    "_defaultOrder": 49,
    "_isFastLaunch": false,
    "category": "Accelerated computing",
    "gpuNum": 1,
    "hideHardwareSpecs": false,
    "memoryGiB": 64,
    "name": "ml.g5.4xlarge",
    "vcpuNum": 16
   },
   {
    "_defaultOrder": 50,
    "_isFastLaunch": false,
    "category": "Accelerated computing",
    "gpuNum": 1,
    "hideHardwareSpecs": false,
    "memoryGiB": 128,
    "name": "ml.g5.8xlarge",
    "vcpuNum": 32
   },
   {
    "_defaultOrder": 51,
    "_isFastLaunch": false,
    "category": "Accelerated computing",
    "gpuNum": 1,
    "hideHardwareSpecs": false,
    "memoryGiB": 256,
    "name": "ml.g5.16xlarge",
    "vcpuNum": 64
   },
   {
    "_defaultOrder": 52,
    "_isFastLaunch": false,
    "category": "Accelerated computing",
    "gpuNum": 4,
    "hideHardwareSpecs": false,
    "memoryGiB": 192,
    "name": "ml.g5.12xlarge",
    "vcpuNum": 48
   },
   {
    "_defaultOrder": 53,
    "_isFastLaunch": false,
    "category": "Accelerated computing",
    "gpuNum": 4,
    "hideHardwareSpecs": false,
    "memoryGiB": 384,
    "name": "ml.g5.24xlarge",
    "vcpuNum": 96
   },
   {
    "_defaultOrder": 54,
    "_isFastLaunch": false,
    "category": "Accelerated computing",
    "gpuNum": 8,
    "hideHardwareSpecs": false,
    "memoryGiB": 768,
    "name": "ml.g5.48xlarge",
    "vcpuNum": 192
   },
   {
    "_defaultOrder": 55,
    "_isFastLaunch": false,
    "category": "Accelerated computing",
    "gpuNum": 8,
    "hideHardwareSpecs": false,
    "memoryGiB": 1152,
    "name": "ml.p4d.24xlarge",
    "vcpuNum": 96
   },
   {
    "_defaultOrder": 56,
    "_isFastLaunch": false,
    "category": "Accelerated computing",
    "gpuNum": 8,
    "hideHardwareSpecs": false,
    "memoryGiB": 1152,
    "name": "ml.p4de.24xlarge",
    "vcpuNum": 96
   }
  ],
  "instance_type": "ml.m5.large",
  "kernelspec": {
   "display_name": "Python 3 (Data Science 2.0)",
   "language": "python",
   "name": "python3__SAGEMAKER_INTERNAL__arn:aws:sagemaker:us-east-1:081325390199:image/sagemaker-data-science-38"
  },
  "language_info": {
   "codemirror_mode": {
    "name": "ipython",
    "version": 3
   },
   "file_extension": ".py",
   "mimetype": "text/x-python",
   "name": "python",
   "nbconvert_exporter": "python",
   "pygments_lexer": "ipython3",
   "version": "3.8.13"
  }
 },
 "nbformat": 4,
 "nbformat_minor": 5
}
